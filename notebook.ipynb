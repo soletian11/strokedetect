{
 "cells": [
  {
   "cell_type": "markdown",
   "id": "c8fe81d7",
   "metadata": {},
   "source": [
    "### 1.Detecting HeartStroke\n",
    "    \n",
    "- This dataset hold 5110 records , need to predict the stroke of person.We are using binary classification using Logistic Regression.\n",
    "- Source of dataset is from Kaggle and file is is placed in my git.\n",
    "- Target variable is STROKE and model predicts either person has stroke or not.\n",
    "- Below values denote STROKE\n",
    "    - STROKE - 1\n",
    "    -NO STROKE - 0\n",
    "    \n",
    "  \n"
   ]
  },
  {
   "cell_type": "markdown",
   "id": "4e886d40",
   "metadata": {},
   "source": [
    "### Challenge : Data is overfitted using  Decision Tree where  ROC_AUC_SCORE=1 for given data set."
   ]
  },
  {
   "cell_type": "markdown",
   "id": "01305b71",
   "metadata": {},
   "source": [
    "### DataSet :https://raw.githubusercontent.com/soletian11/strokedetect/main/healthcare-dataset-stroke-data.csv"
   ]
  },
  {
   "cell_type": "markdown",
   "id": "810a017b",
   "metadata": {},
   "source": [
    "## 2.Data Cleaning and Preparartion"
   ]
  },
  {
   "cell_type": "code",
   "execution_count": 67,
   "id": "17752df9",
   "metadata": {},
   "outputs": [],
   "source": [
    "import pandas as pd\n",
    "import numpy as np\n",
    "from sklearn.model_selection import train_test_split\n",
    "from sklearn.feature_extraction import DictVectorizer\n",
    "from sklearn.linear_model import LogisticRegression\n",
    "from sklearn.metrics import accuracy_score,roc_auc_score,auc\n",
    "from sklearn.metrics import mutual_info_score\n",
    "from sklearn.model_selection import KFold\n",
    "import matplotlib.pyplot as plt\n",
    "import seaborn as sns\n",
    "from sklearn.metrics import confusion_matrix,roc_curve\n",
    "from sklearn.metrics import mean_squared_error "
   ]
  },
  {
   "cell_type": "markdown",
   "id": "6b82f73c",
   "metadata": {},
   "source": [
    "- Download Data Set(Having 5110 Records)\n",
    "- Re-encoding the Categorical Variables\n",
    "- Splitting the data ser 60/20/20 between Train , Test and Val"
   ]
  },
  {
   "cell_type": "code",
   "execution_count": 68,
   "id": "78aa1267",
   "metadata": {},
   "outputs": [],
   "source": [
    "data='https://raw.githubusercontent.com/soletian11/strokedetect/main/healthcare-dataset-stroke-data.csv'"
   ]
  },
  {
   "cell_type": "code",
   "execution_count": 69,
   "id": "7093d477",
   "metadata": {},
   "outputs": [],
   "source": [
    "df=pd.read_csv(data)\n",
    "df.columns=df.columns.str.lower()\n"
   ]
  },
  {
   "cell_type": "code",
   "execution_count": 70,
   "id": "20c32d82",
   "metadata": {},
   "outputs": [],
   "source": [
    "numerical=[ 'age',  'hypertension',  'heart_disease',  'avg_glucose_level',  'bmi']\n",
    "categorical=['gender', 'ever_married', 'work_type', 'residence_type', 'smoking_status']"
   ]
  },
  {
   "cell_type": "markdown",
   "id": "a88d12d1",
   "metadata": {},
   "source": [
    "## Imposing  Rules on Dataset:\n",
    "   "
   ]
  },
  {
   "cell_type": "markdown",
   "id": "42d9db44",
   "metadata": {},
   "source": [
    "### Data Cleansing and EDA\n",
    " - Having NAN in  BMI  column and count is 201.So taking AVG of BMI and adding to NAN's\n",
    " - Also having 'OTHER' record for gender and removing from dataset , so count decerases to 5109\n",
    " - Identifying NULL's\n",
    " - Identifying JUNK record using gender value counts and cleaning up.\n",
    " - converting categorical columnvalues to lower case and adding underscore for empty space\n",
    " - Rounding Age from float to int's"
   ]
  },
  {
   "cell_type": "code",
   "execution_count": 71,
   "id": "121b5584",
   "metadata": {},
   "outputs": [
    {
     "data": {
      "text/plain": [
       "id                     0\n",
       "gender                 0\n",
       "age                    0\n",
       "hypertension           0\n",
       "heart_disease          0\n",
       "ever_married           0\n",
       "work_type              0\n",
       "residence_type         0\n",
       "avg_glucose_level      0\n",
       "bmi                  201\n",
       "smoking_status         0\n",
       "stroke                 0\n",
       "dtype: int64"
      ]
     },
     "execution_count": 71,
     "metadata": {},
     "output_type": "execute_result"
    }
   ],
   "source": [
    "df.isna().sum()"
   ]
  },
  {
   "cell_type": "code",
   "execution_count": 72,
   "id": "4efd9b73",
   "metadata": {},
   "outputs": [
    {
     "data": {
      "text/plain": [
       "Female    2994\n",
       "Male      2115\n",
       "Other        1\n",
       "Name: gender, dtype: int64"
      ]
     },
     "execution_count": 72,
     "metadata": {},
     "output_type": "execute_result"
    }
   ],
   "source": [
    "df.gender.value_counts()"
   ]
  },
  {
   "cell_type": "code",
   "execution_count": 73,
   "id": "280410d1",
   "metadata": {},
   "outputs": [],
   "source": [
    "df=df[df['gender']!='Other'].reset_index(drop=True)"
   ]
  },
  {
   "cell_type": "code",
   "execution_count": 74,
   "id": "dcfa8b0c",
   "metadata": {},
   "outputs": [],
   "source": [
    "df['bmi']=df['bmi'].fillna(df['bmi'].mean())"
   ]
  },
  {
   "cell_type": "markdown",
   "id": "cde1781d",
   "metadata": {},
   "source": [
    "### Feature Importance :Churn Rate and risk ratio"
   ]
  },
  {
   "cell_type": "code",
   "execution_count": 75,
   "id": "bea05904",
   "metadata": {},
   "outputs": [],
   "source": [
    "df['age']=df['age'].round()"
   ]
  },
  {
   "cell_type": "code",
   "execution_count": 76,
   "id": "26985c79",
   "metadata": {},
   "outputs": [],
   "source": [
    "for col in categorical:\n",
    "    df[col]=df[col].str.lower().str.replace(' ','_')"
   ]
  },
  {
   "cell_type": "code",
   "execution_count": 77,
   "id": "169a2131",
   "metadata": {},
   "outputs": [],
   "source": [
    "df_full_train, df_test=train_test_split(df,test_size=0.2,random_state=42)\n",
    "df_train, df_val=train_test_split(df_full_train,test_size=0.25,random_state=42)\n",
    "df_train=df_train.reset_index(drop=True)\n",
    "df_val=df_val.reset_index(drop=True)\n",
    "df_test=df_test.reset_index(drop=True)\n",
    "y_train=df_train['stroke'].values\n",
    "y_full_train=df_full_train['stroke'].values\n",
    "y_test=df_test['stroke'].values\n",
    "y_val=df_val['stroke'].values\n",
    "\n",
    "del df_train['stroke']\n",
    "del df_test['stroke']\n",
    "del df_val['stroke']"
   ]
  },
  {
   "cell_type": "code",
   "execution_count": 78,
   "id": "416a4fc4",
   "metadata": {},
   "outputs": [
    {
     "name": "stdout",
     "output_type": "stream",
     "text": [
      "column : gender\n",
      "            mean  count      risk      diff\n",
      "gender                                     \n",
      "female  0.044509   2404  0.972775 -0.001246\n",
      "male    0.047534   1683  1.038888  0.001779\n",
      "\n",
      "\n",
      "column : ever_married\n",
      "                  mean  count      risk      diff\n",
      "ever_married                                     \n",
      "no            0.017630   1418  0.385325 -0.028124\n",
      "yes           0.060697   2669  1.326568  0.014942\n",
      "\n",
      "\n",
      "column : work_type\n",
      "                   mean  count      risk      diff\n",
      "work_type                                         \n",
      "children       0.003610    554  0.078901 -0.042145\n",
      "govt_job       0.047081    531  1.028984  0.001326\n",
      "never_worked   0.000000     18  0.000000 -0.045755\n",
      "private        0.048048   2331  1.050120  0.002293\n",
      "self-employed  0.073507    653  1.606538  0.027752\n",
      "\n",
      "\n",
      "column : residence_type\n",
      "                    mean  count      risk      diff\n",
      "residence_type                                     \n",
      "rural           0.042352   2007  0.925624 -0.003403\n",
      "urban           0.049038   2080  1.071766  0.003284\n",
      "\n",
      "\n",
      "column : smoking_status\n",
      "                     mean  count      risk      diff\n",
      "smoking_status                                      \n",
      "formerly_smoked  0.070522    709  1.541299  0.024767\n",
      "never_smoked     0.045273   1502  0.989469 -0.000482\n",
      "smokes           0.051805    637  1.132238  0.006051\n",
      "unknown          0.029056   1239  0.635030 -0.016699\n",
      "\n",
      "\n"
     ]
    }
   ],
   "source": [
    "global_stroke_rate=df_full_train['stroke'].mean()\n",
    "round(global_stroke_rate,2)\n",
    "for c in categorical:\n",
    "    print(\"column :\", c)\n",
    "    df_group=df_full_train.groupby(c)['stroke'].agg(['mean','count'])\n",
    "    df_group['risk']=df_group['mean']/global_stroke_rate\n",
    "    df_group['diff']=df_group['mean']-global_stroke_rate\n",
    "    print(df_group)\n",
    "    \n",
    "    print(\"\\n\")"
   ]
  },
  {
   "cell_type": "markdown",
   "id": "7d0bc4af",
   "metadata": {},
   "source": [
    "## Features Importance \n",
    "    - For Categorical\n",
    "    - For Numerical"
   ]
  },
  {
   "cell_type": "markdown",
   "id": "67eb67ad",
   "metadata": {},
   "source": [
    "### Categorical  Features Importance"
   ]
  },
  {
   "cell_type": "code",
   "execution_count": 79,
   "id": "d9093e14",
   "metadata": {},
   "outputs": [
    {
     "data": {
      "text/html": [
       "<div>\n",
       "<style scoped>\n",
       "    .dataframe tbody tr th:only-of-type {\n",
       "        vertical-align: middle;\n",
       "    }\n",
       "\n",
       "    .dataframe tbody tr th {\n",
       "        vertical-align: top;\n",
       "    }\n",
       "\n",
       "    .dataframe thead th {\n",
       "        text-align: right;\n",
       "    }\n",
       "</style>\n",
       "<table border=\"1\" class=\"dataframe\">\n",
       "  <thead>\n",
       "    <tr style=\"text-align: right;\">\n",
       "      <th></th>\n",
       "      <th>categorical_var</th>\n",
       "      <th>mutual_score</th>\n",
       "    </tr>\n",
       "  </thead>\n",
       "  <tbody>\n",
       "    <tr>\n",
       "      <th>0</th>\n",
       "      <td>gender</td>\n",
       "      <td>0.000041</td>\n",
       "    </tr>\n",
       "    <tr>\n",
       "      <th>3</th>\n",
       "      <td>residence_type</td>\n",
       "      <td>0.000119</td>\n",
       "    </tr>\n",
       "    <tr>\n",
       "      <th>4</th>\n",
       "      <td>smoking_status</td>\n",
       "      <td>0.002757</td>\n",
       "    </tr>\n",
       "    <tr>\n",
       "      <th>2</th>\n",
       "      <td>work_type</td>\n",
       "      <td>0.006827</td>\n",
       "    </tr>\n",
       "    <tr>\n",
       "      <th>1</th>\n",
       "      <td>ever_married</td>\n",
       "      <td>0.006945</td>\n",
       "    </tr>\n",
       "  </tbody>\n",
       "</table>\n",
       "</div>"
      ],
      "text/plain": [
       "  categorical_var  mutual_score\n",
       "0          gender      0.000041\n",
       "3  residence_type      0.000119\n",
       "4  smoking_status      0.002757\n",
       "2       work_type      0.006827\n",
       "1    ever_married      0.006945"
      ]
     },
     "execution_count": 79,
     "metadata": {},
     "output_type": "execute_result"
    }
   ],
   "source": [
    "feature_scores=[]\n",
    "for c in categorical:\n",
    "     feature_scores.append((c,mutual_info_score(df[c],df['stroke'])))\n",
    "columns=['categorical_var','mutual_score']\n",
    "df_col_mutual_scores=pd.DataFrame(feature_scores, columns=columns)\n",
    "df_col_mutual_scores.sort_values('mutual_score')"
   ]
  },
  {
   "cell_type": "markdown",
   "id": "cabd4e69",
   "metadata": {},
   "source": [
    "### Numerical  Features Importance"
   ]
  },
  {
   "cell_type": "code",
   "execution_count": 80,
   "id": "a3e747ce",
   "metadata": {},
   "outputs": [
    {
     "data": {
      "text/plain": [
       "age                  0.245225\n",
       "hypertension         0.127891\n",
       "heart_disease        0.134905\n",
       "avg_glucose_level    0.131991\n",
       "bmi                  0.038917\n",
       "dtype: float64"
      ]
     },
     "execution_count": 80,
     "metadata": {},
     "output_type": "execute_result"
    }
   ],
   "source": [
    "df[numerical].corrwith(df.stroke)"
   ]
  },
  {
   "cell_type": "markdown",
   "id": "90d85c1f",
   "metadata": {},
   "source": [
    "### One Hot Encoding"
   ]
  },
  {
   "cell_type": "code",
   "execution_count": 81,
   "id": "0865a028",
   "metadata": {},
   "outputs": [],
   "source": [
    "train_dicts=df_train[categorical+numerical].to_dict(orient='records')\n",
    "test_dicts=df_test[categorical+numerical].to_dict(orient='records')\n",
    "val_dicts=df_val[categorical+numerical].to_dict(orient='records')\n",
    "dv=DictVectorizer(sparse=False)\n",
    "X_train=dv.fit_transform(train_dicts)\n",
    "X_val=dv.transform(val_dicts)\n",
    "X_test=dv.transform(test_dicts)\n"
   ]
  },
  {
   "cell_type": "code",
   "execution_count": 82,
   "id": "d7a3996f",
   "metadata": {},
   "outputs": [
    {
     "data": {
      "text/plain": [
       "['age',\n",
       " 'avg_glucose_level',\n",
       " 'bmi',\n",
       " 'ever_married=no',\n",
       " 'ever_married=yes',\n",
       " 'gender=female',\n",
       " 'gender=male',\n",
       " 'heart_disease',\n",
       " 'hypertension',\n",
       " 'residence_type=rural',\n",
       " 'residence_type=urban',\n",
       " 'smoking_status=formerly_smoked',\n",
       " 'smoking_status=never_smoked',\n",
       " 'smoking_status=smokes',\n",
       " 'smoking_status=unknown',\n",
       " 'work_type=children',\n",
       " 'work_type=govt_job',\n",
       " 'work_type=never_worked',\n",
       " 'work_type=private',\n",
       " 'work_type=self-employed']"
      ]
     },
     "execution_count": 82,
     "metadata": {},
     "output_type": "execute_result"
    }
   ],
   "source": [
    "dv.get_feature_names()"
   ]
  },
  {
   "cell_type": "markdown",
   "id": "0a34d2b5",
   "metadata": {},
   "source": [
    "### Expermimenting with Logistis Regression"
   ]
  },
  {
   "cell_type": "code",
   "execution_count": 83,
   "id": "fe4e3ca1",
   "metadata": {},
   "outputs": [
    {
     "data": {
      "text/plain": [
       "LogisticRegression(class_weight='balanced', max_iter=1000, solver='liblinear')"
      ]
     },
     "execution_count": 83,
     "metadata": {},
     "output_type": "execute_result"
    }
   ],
   "source": [
    "model=LogisticRegression(max_iter=1000,class_weight='balanced',solver='liblinear')\n",
    "model.fit(X_train,y_train)"
   ]
  },
  {
   "cell_type": "code",
   "execution_count": 84,
   "id": "f3b864fa",
   "metadata": {},
   "outputs": [
    {
     "data": {
      "text/plain": [
       "array([0.06795121, 0.80133914, 0.36667226, ..., 0.59418214, 0.29361164,\n",
       "       0.09001018])"
      ]
     },
     "execution_count": 84,
     "metadata": {},
     "output_type": "execute_result"
    }
   ],
   "source": [
    "y_pred_val=model.predict_proba(X_val)[:,1]# Soft Predictions- Score\n",
    "\n",
    "y_pred_val"
   ]
  },
  {
   "cell_type": "code",
   "execution_count": 85,
   "id": "ce0b35a4",
   "metadata": {},
   "outputs": [],
   "source": [
    "stroke_decision=y_pred_val>0.45"
   ]
  },
  {
   "cell_type": "markdown",
   "id": "bd757df8",
   "metadata": {},
   "source": [
    "### Experimenting Thresholds"
   ]
  },
  {
   "cell_type": "code",
   "execution_count": 86,
   "id": "d924b858",
   "metadata": {},
   "outputs": [
    {
     "data": {
      "text/plain": [
       "[<matplotlib.lines.Line2D at 0x7f48f568b6a0>]"
      ]
     },
     "execution_count": 86,
     "metadata": {},
     "output_type": "execute_result"
    },
    {
     "data": {
      "image/png": "[encoded data removed]",
      "text/plain": [
       "<Figure size 432x288 with 1 Axes>"
      ]
     },
     "metadata": {
      "needs_background": "light"
     },
     "output_type": "display_data"
    }
   ],
   "source": [
    "scores=[]\n",
    "thresholds=np.linspace(0,1,21)\n",
    "for i in thresholds:\n",
    "    stroke_threshold=y_pred_val>i\n",
    "    score=(stroke_threshold==y_val).mean()\n",
    "#     print('%.2f,%.3f' %(i,score))\n",
    "    scores.append((score))\n",
    "plt.plot(thresholds,scores)"
   ]
  },
  {
   "cell_type": "code",
   "execution_count": 87,
   "id": "a47b5629",
   "metadata": {},
   "outputs": [
    {
     "name": "stdout",
     "output_type": "stream",
     "text": [
      "Best Threshold=0.454416, G-Mean=0.775\n"
     ]
    },
    {
     "data": {
      "text/plain": [
       "<matplotlib.collections.PathCollection at 0x7f48f5751700>"
      ]
     },
     "execution_count": 87,
     "metadata": {},
     "output_type": "execute_result"
    },
    {
     "data": {
      "image/png": "[encoded data removed]",
      "text/plain": [
       "<Figure size 432x288 with 1 Axes>"
      ]
     },
     "metadata": {
      "needs_background": "light"
     },
     "output_type": "display_data"
    }
   ],
   "source": [
    "fpr, tpr, thresholds = roc_curve(y_val, y_pred_val)\n",
    "from numpy import sqrt\n",
    "from numpy import argmax\n",
    "gmeans = sqrt(tpr * (1-fpr))\n",
    "ix = argmax(gmeans)\n",
    "print('Best Threshold=%f, G-Mean=%.3f' % (thresholds[ix], gmeans[ix]))\n",
    "plt.plot(fpr, tpr, marker='.', label='LOgistic Rgression')\n",
    "plt.xlabel('False Positive Rate')\n",
    "plt.ylabel('True Positive Rate')\n",
    "plt.legend()\n",
    "plt.scatter(fpr[ix], tpr[ix], marker='o', color='black', label='Best')"
   ]
  },
  {
   "cell_type": "code",
   "execution_count": 88,
   "id": "6056f2fc",
   "metadata": {},
   "outputs": [
    {
     "data": {
      "text/plain": [
       "740"
      ]
     },
     "execution_count": 88,
     "metadata": {},
     "output_type": "execute_result"
    }
   ],
   "source": [
    "(stroke_decision==y_val).sum()"
   ]
  },
  {
   "cell_type": "markdown",
   "id": "4c67308d",
   "metadata": {},
   "source": [
    "### Testing Predictions "
   ]
  },
  {
   "cell_type": "code",
   "execution_count": 89,
   "id": "f533cffc",
   "metadata": {},
   "outputs": [
    {
     "data": {
      "text/html": [
       "<div>\n",
       "<style scoped>\n",
       "    .dataframe tbody tr th:only-of-type {\n",
       "        vertical-align: middle;\n",
       "    }\n",
       "\n",
       "    .dataframe tbody tr th {\n",
       "        vertical-align: top;\n",
       "    }\n",
       "\n",
       "    .dataframe thead th {\n",
       "        text-align: right;\n",
       "    }\n",
       "</style>\n",
       "<table border=\"1\" class=\"dataframe\">\n",
       "  <thead>\n",
       "    <tr style=\"text-align: right;\">\n",
       "      <th></th>\n",
       "      <th>probability</th>\n",
       "      <th>prediction</th>\n",
       "      <th>actual</th>\n",
       "      <th>correct</th>\n",
       "    </tr>\n",
       "  </thead>\n",
       "  <tbody>\n",
       "    <tr>\n",
       "      <th>0</th>\n",
       "      <td>0.067951</td>\n",
       "      <td>0</td>\n",
       "      <td>0</td>\n",
       "      <td>True</td>\n",
       "    </tr>\n",
       "    <tr>\n",
       "      <th>1</th>\n",
       "      <td>0.801339</td>\n",
       "      <td>1</td>\n",
       "      <td>1</td>\n",
       "      <td>True</td>\n",
       "    </tr>\n",
       "    <tr>\n",
       "      <th>2</th>\n",
       "      <td>0.366672</td>\n",
       "      <td>0</td>\n",
       "      <td>0</td>\n",
       "      <td>True</td>\n",
       "    </tr>\n",
       "    <tr>\n",
       "      <th>3</th>\n",
       "      <td>0.159204</td>\n",
       "      <td>0</td>\n",
       "      <td>0</td>\n",
       "      <td>True</td>\n",
       "    </tr>\n",
       "    <tr>\n",
       "      <th>4</th>\n",
       "      <td>0.038335</td>\n",
       "      <td>0</td>\n",
       "      <td>0</td>\n",
       "      <td>True</td>\n",
       "    </tr>\n",
       "    <tr>\n",
       "      <th>...</th>\n",
       "      <td>...</td>\n",
       "      <td>...</td>\n",
       "      <td>...</td>\n",
       "      <td>...</td>\n",
       "    </tr>\n",
       "    <tr>\n",
       "      <th>1017</th>\n",
       "      <td>0.430161</td>\n",
       "      <td>0</td>\n",
       "      <td>0</td>\n",
       "      <td>True</td>\n",
       "    </tr>\n",
       "    <tr>\n",
       "      <th>1018</th>\n",
       "      <td>0.176944</td>\n",
       "      <td>0</td>\n",
       "      <td>0</td>\n",
       "      <td>True</td>\n",
       "    </tr>\n",
       "    <tr>\n",
       "      <th>1019</th>\n",
       "      <td>0.594182</td>\n",
       "      <td>1</td>\n",
       "      <td>0</td>\n",
       "      <td>False</td>\n",
       "    </tr>\n",
       "    <tr>\n",
       "      <th>1020</th>\n",
       "      <td>0.293612</td>\n",
       "      <td>0</td>\n",
       "      <td>0</td>\n",
       "      <td>True</td>\n",
       "    </tr>\n",
       "    <tr>\n",
       "      <th>1021</th>\n",
       "      <td>0.090010</td>\n",
       "      <td>0</td>\n",
       "      <td>0</td>\n",
       "      <td>True</td>\n",
       "    </tr>\n",
       "  </tbody>\n",
       "</table>\n",
       "<p>1022 rows × 4 columns</p>\n",
       "</div>"
      ],
      "text/plain": [
       "      probability  prediction  actual  correct\n",
       "0        0.067951           0       0     True\n",
       "1        0.801339           1       1     True\n",
       "2        0.366672           0       0     True\n",
       "3        0.159204           0       0     True\n",
       "4        0.038335           0       0     True\n",
       "...           ...         ...     ...      ...\n",
       "1017     0.430161           0       0     True\n",
       "1018     0.176944           0       0     True\n",
       "1019     0.594182           1       0    False\n",
       "1020     0.293612           0       0     True\n",
       "1021     0.090010           0       0     True\n",
       "\n",
       "[1022 rows x 4 columns]"
      ]
     },
     "execution_count": 89,
     "metadata": {},
     "output_type": "execute_result"
    }
   ],
   "source": [
    "df_pred = pd.DataFrame({'probability':y_pred_val, 'prediction':stroke_decision.astype(int),'actual':y_val})\n",
    "\n",
    "df_pred['correct']=(df_pred['prediction']==df_pred['actual'])\n",
    "df_pred"
   ]
  },
  {
   "cell_type": "code",
   "execution_count": 90,
   "id": "9b09e440",
   "metadata": {},
   "outputs": [
    {
     "data": {
      "text/plain": [
       "0.7240704500978473"
      ]
     },
     "execution_count": 90,
     "metadata": {},
     "output_type": "execute_result"
    }
   ],
   "source": [
    "df_pred['correct'].mean()"
   ]
  },
  {
   "cell_type": "code",
   "execution_count": 91,
   "id": "0944058f",
   "metadata": {},
   "outputs": [
    {
     "data": {
      "text/plain": [
       "array([False,  True, False, False, False])"
      ]
     },
     "execution_count": 91,
     "metadata": {},
     "output_type": "execute_result"
    }
   ],
   "source": [
    "t=0.45\n",
    "actual_positive=(y_val==1)\n",
    "actual_negative=(y_val==0)\n",
    "\n",
    "predict_positive=(y_pred_val>=t)\n",
    "predict_negative=(y_pred_val<t)\n",
    "\n",
    "predict_positive[:5]"
   ]
  },
  {
   "cell_type": "code",
   "execution_count": 92,
   "id": "2584187d",
   "metadata": {},
   "outputs": [
    {
     "data": {
      "text/plain": [
       "(array([False,  True]), array([981,  41]))"
      ]
     },
     "execution_count": 92,
     "metadata": {},
     "output_type": "execute_result"
    }
   ],
   "source": [
    "unique, counts = np.unique(actual_positive, return_counts=True)\n",
    "unique, counts"
   ]
  },
  {
   "cell_type": "code",
   "execution_count": 93,
   "id": "c12eda80",
   "metadata": {},
   "outputs": [
    {
     "data": {
      "text/plain": [
       "(array([False,  True]), array([713, 309]))"
      ]
     },
     "execution_count": 93,
     "metadata": {},
     "output_type": "execute_result"
    }
   ],
   "source": [
    "unique, counts = np.unique(predict_positive, return_counts=True)\n",
    "unique, counts"
   ]
  },
  {
   "cell_type": "code",
   "execution_count": 94,
   "id": "066bf109",
   "metadata": {},
   "outputs": [
    {
     "data": {
      "text/plain": [
       "34"
      ]
     },
     "execution_count": 94,
     "metadata": {},
     "output_type": "execute_result"
    }
   ],
   "source": [
    "tp=(predict_positive &actual_positive).sum()\n",
    "tp"
   ]
  },
  {
   "cell_type": "code",
   "execution_count": 95,
   "id": "a30da447",
   "metadata": {},
   "outputs": [],
   "source": [
    "tp=(predict_positive &actual_positive).sum()\n",
    "tn=(predict_negative &actual_negative  ).sum()\n",
    "fp=(predict_positive &actual_negative ).sum()\n",
    "fn=(predict_negative &actual_positive  ).sum()"
   ]
  },
  {
   "cell_type": "code",
   "execution_count": 96,
   "id": "884f5c69",
   "metadata": {},
   "outputs": [
    {
     "data": {
      "text/plain": [
       "array([[706, 275],\n",
       "       [  7,  34]])"
      ]
     },
     "execution_count": 96,
     "metadata": {},
     "output_type": "execute_result"
    }
   ],
   "source": [
    "confusion_matrix=np.array([\n",
    "    [tn, fp],\n",
    "     [fn,tp]\n",
    "    \n",
    "])\n",
    "confusion_matrix"
   ]
  },
  {
   "cell_type": "markdown",
   "id": "812b5e32",
   "metadata": {},
   "source": [
    "### ROC Curve for Logistic Regression"
   ]
  },
  {
   "cell_type": "code",
   "execution_count": 97,
   "id": "d763836b",
   "metadata": {},
   "outputs": [
    {
     "data": {
      "text/html": [
       "<div>\n",
       "<style scoped>\n",
       "    .dataframe tbody tr th:only-of-type {\n",
       "        vertical-align: middle;\n",
       "    }\n",
       "\n",
       "    .dataframe tbody tr th {\n",
       "        vertical-align: top;\n",
       "    }\n",
       "\n",
       "    .dataframe thead th {\n",
       "        text-align: right;\n",
       "    }\n",
       "</style>\n",
       "<table border=\"1\" class=\"dataframe\">\n",
       "  <thead>\n",
       "    <tr style=\"text-align: right;\">\n",
       "      <th></th>\n",
       "      <th>threshold</th>\n",
       "      <th>tp</th>\n",
       "      <th>tn</th>\n",
       "      <th>fp</th>\n",
       "      <th>fn</th>\n",
       "      <th>tpr</th>\n",
       "      <th>fpr</th>\n",
       "    </tr>\n",
       "  </thead>\n",
       "  <tbody>\n",
       "    <tr>\n",
       "      <th>0</th>\n",
       "      <td>0.00</td>\n",
       "      <td>41</td>\n",
       "      <td>0</td>\n",
       "      <td>981</td>\n",
       "      <td>0</td>\n",
       "      <td>1.00000</td>\n",
       "      <td>1.000000</td>\n",
       "    </tr>\n",
       "    <tr>\n",
       "      <th>1</th>\n",
       "      <td>0.01</td>\n",
       "      <td>41</td>\n",
       "      <td>0</td>\n",
       "      <td>981</td>\n",
       "      <td>0</td>\n",
       "      <td>1.00000</td>\n",
       "      <td>1.000000</td>\n",
       "    </tr>\n",
       "    <tr>\n",
       "      <th>2</th>\n",
       "      <td>0.02</td>\n",
       "      <td>41</td>\n",
       "      <td>2</td>\n",
       "      <td>979</td>\n",
       "      <td>0</td>\n",
       "      <td>1.00000</td>\n",
       "      <td>0.997961</td>\n",
       "    </tr>\n",
       "    <tr>\n",
       "      <th>3</th>\n",
       "      <td>0.03</td>\n",
       "      <td>41</td>\n",
       "      <td>53</td>\n",
       "      <td>928</td>\n",
       "      <td>0</td>\n",
       "      <td>1.00000</td>\n",
       "      <td>0.945973</td>\n",
       "    </tr>\n",
       "    <tr>\n",
       "      <th>4</th>\n",
       "      <td>0.04</td>\n",
       "      <td>41</td>\n",
       "      <td>140</td>\n",
       "      <td>841</td>\n",
       "      <td>0</td>\n",
       "      <td>1.00000</td>\n",
       "      <td>0.857288</td>\n",
       "    </tr>\n",
       "    <tr>\n",
       "      <th>...</th>\n",
       "      <td>...</td>\n",
       "      <td>...</td>\n",
       "      <td>...</td>\n",
       "      <td>...</td>\n",
       "      <td>...</td>\n",
       "      <td>...</td>\n",
       "      <td>...</td>\n",
       "    </tr>\n",
       "    <tr>\n",
       "      <th>96</th>\n",
       "      <td>0.96</td>\n",
       "      <td>1</td>\n",
       "      <td>981</td>\n",
       "      <td>0</td>\n",
       "      <td>40</td>\n",
       "      <td>0.02439</td>\n",
       "      <td>0.000000</td>\n",
       "    </tr>\n",
       "    <tr>\n",
       "      <th>97</th>\n",
       "      <td>0.97</td>\n",
       "      <td>1</td>\n",
       "      <td>981</td>\n",
       "      <td>0</td>\n",
       "      <td>40</td>\n",
       "      <td>0.02439</td>\n",
       "      <td>0.000000</td>\n",
       "    </tr>\n",
       "    <tr>\n",
       "      <th>98</th>\n",
       "      <td>0.98</td>\n",
       "      <td>0</td>\n",
       "      <td>981</td>\n",
       "      <td>0</td>\n",
       "      <td>41</td>\n",
       "      <td>0.00000</td>\n",
       "      <td>0.000000</td>\n",
       "    </tr>\n",
       "    <tr>\n",
       "      <th>99</th>\n",
       "      <td>0.99</td>\n",
       "      <td>0</td>\n",
       "      <td>981</td>\n",
       "      <td>0</td>\n",
       "      <td>41</td>\n",
       "      <td>0.00000</td>\n",
       "      <td>0.000000</td>\n",
       "    </tr>\n",
       "    <tr>\n",
       "      <th>100</th>\n",
       "      <td>1.00</td>\n",
       "      <td>0</td>\n",
       "      <td>981</td>\n",
       "      <td>0</td>\n",
       "      <td>41</td>\n",
       "      <td>0.00000</td>\n",
       "      <td>0.000000</td>\n",
       "    </tr>\n",
       "  </tbody>\n",
       "</table>\n",
       "<p>101 rows × 7 columns</p>\n",
       "</div>"
      ],
      "text/plain": [
       "     threshold  tp   tn   fp  fn      tpr       fpr\n",
       "0         0.00  41    0  981   0  1.00000  1.000000\n",
       "1         0.01  41    0  981   0  1.00000  1.000000\n",
       "2         0.02  41    2  979   0  1.00000  0.997961\n",
       "3         0.03  41   53  928   0  1.00000  0.945973\n",
       "4         0.04  41  140  841   0  1.00000  0.857288\n",
       "..         ...  ..  ...  ...  ..      ...       ...\n",
       "96        0.96   1  981    0  40  0.02439  0.000000\n",
       "97        0.97   1  981    0  40  0.02439  0.000000\n",
       "98        0.98   0  981    0  41  0.00000  0.000000\n",
       "99        0.99   0  981    0  41  0.00000  0.000000\n",
       "100       1.00   0  981    0  41  0.00000  0.000000\n",
       "\n",
       "[101 rows x 7 columns]"
      ]
     },
     "execution_count": 97,
     "metadata": {},
     "output_type": "execute_result"
    }
   ],
   "source": [
    "scores=[]\n",
    "for t in np.linspace(0,1,101,):  \n",
    "    actual_positive=(y_val==1)\n",
    "    actual_negative=(y_val==0)\n",
    "    predict_positive=(y_pred_val>=t)\n",
    "    predict_negative=(y_pred_val<t)\n",
    "    tp=(predict_positive &actual_positive).sum()\n",
    "    tn=(predict_negative &actual_negative  ).sum()\n",
    "    fp=(predict_positive &actual_negative ).sum()\n",
    "    fn=(predict_negative &actual_positive  ).sum()\n",
    "    tpr=tp/(tp+fn)\n",
    "    fpr=fp/(fp+tn)\n",
    "    scores.append((t,tp,tn,fp,fn,tpr,fpr))\n",
    "\n",
    "columns=['threshold','tp','tn','fp','fn','tpr','fpr']\n",
    "df_roc_curve=pd.DataFrame(scores, columns=columns)\n",
    "df_roc_curve"
   ]
  },
  {
   "cell_type": "code",
   "execution_count": 98,
   "id": "5828c98e",
   "metadata": {},
   "outputs": [
    {
     "data": {
      "text/plain": [
       "Text(0, 0.5, 'FPR/TPR')"
      ]
     },
     "execution_count": 98,
     "metadata": {},
     "output_type": "execute_result"
    },
    {
     "data": {
      "image/png": "[encoded data removed]",
      "text/plain": [
       "<Figure size 432x288 with 1 Axes>"
      ]
     },
     "metadata": {
      "needs_background": "light"
     },
     "output_type": "display_data"
    }
   ],
   "source": [
    "plt.plot(df_roc_curve['threshold'],df_roc_curve['tpr'], label='TPR')\n",
    "plt.plot(df_roc_curve['threshold'],df_roc_curve['fpr'],label='FPR')\n",
    "plt.xlabel(\"threshold\")\n",
    "plt.ylabel(\"FPR/TPR\")"
   ]
  },
  {
   "cell_type": "markdown",
   "id": "b2d47da4",
   "metadata": {},
   "source": [
    "##  On Full Train and Test Data Set"
   ]
  },
  {
   "cell_type": "code",
   "execution_count": 100,
   "id": "cc9a19f6",
   "metadata": {},
   "outputs": [
    {
     "data": {
      "text/plain": [
       "LogisticRegression(C=10, max_iter=1000, solver='liblinear')"
      ]
     },
     "execution_count": 100,
     "metadata": {},
     "output_type": "execute_result"
    }
   ],
   "source": [
    "del df_full_train['stroke']\n",
    "full_train_dicts=df_full_train[categorical+numerical].to_dict(orient='records')\n",
    "test_dicts=df_test[categorical+numerical].to_dict(orient='records')\n",
    "X_full_train=dv.fit_transform(full_train_dicts)\n",
    "# 0.01, 0.1, 0.5, 10\n",
    "model=LogisticRegression(solver='liblinear', C=10, max_iter=1000)\n",
    "model.fit(X_train,y_train)\n",
    "model.fit(X_full_train, y_full_train)"
   ]
  },
  {
   "cell_type": "code",
   "execution_count": 102,
   "id": "0311f6fe",
   "metadata": {},
   "outputs": [],
   "source": [
    "y_pred_test=model.predict_proba(X_test)[:,1]# Soft Predictions- Score\n",
    "stroke_decision1=y_pred_test>0.45\n",
    "stroke_decision1=stroke_decision1.astype(int)"
   ]
  },
  {
   "cell_type": "code",
   "execution_count": 104,
   "id": "0472611e",
   "metadata": {},
   "outputs": [
    {
     "name": "stdout",
     "output_type": "stream",
     "text": [
      "0.50\n"
     ]
    }
   ],
   "source": [
    "auc=roc_auc_score(y_test, stroke_decision1)\n",
    "#   print('%s, %.2f' % (n, auc))\n",
    "print('%.2f' % (auc))"
   ]
  },
  {
   "cell_type": "markdown",
   "id": "e6cd2122",
   "metadata": {},
   "source": [
    "###  Modeling Using Decision Tree Classifier"
   ]
  },
  {
   "cell_type": "code",
   "execution_count": 106,
   "id": "fe305e97",
   "metadata": {},
   "outputs": [],
   "source": [
    "from sklearn.tree  import DecisionTreeClassifier\n",
    "dt=DecisionTreeClassifier()"
   ]
  },
  {
   "cell_type": "code",
   "execution_count": 107,
   "id": "0df8c01d",
   "metadata": {},
   "outputs": [
    {
     "data": {
      "text/plain": [
       "DecisionTreeClassifier()"
      ]
     },
     "execution_count": 107,
     "metadata": {},
     "output_type": "execute_result"
    }
   ],
   "source": [
    "dt.fit(X_train,y_train)"
   ]
  },
  {
   "cell_type": "code",
   "execution_count": 108,
   "id": "7b52d05a",
   "metadata": {},
   "outputs": [
    {
     "data": {
      "text/plain": [
       "0.5456477959275006"
      ]
     },
     "execution_count": 108,
     "metadata": {},
     "output_type": "execute_result"
    }
   ],
   "source": [
    "y_pred=dt.predict_proba(X_val)[:,1]\n",
    "roc_auc_score(y_val,y_pred)"
   ]
  },
  {
   "cell_type": "code",
   "execution_count": null,
   "id": "0e1cafb1",
   "metadata": {},
   "outputs": [],
   "source": []
  },
  {
   "cell_type": "markdown",
   "id": "b7332827",
   "metadata": {},
   "source": [
    "### Overfitting"
   ]
  },
  {
   "cell_type": "code",
   "execution_count": 116,
   "id": "e925350f",
   "metadata": {},
   "outputs": [
    {
     "data": {
      "text/plain": [
       "1.0"
      ]
     },
     "execution_count": 116,
     "metadata": {},
     "output_type": "execute_result"
    }
   ],
   "source": [
    "y_pred_train=dt.predict_proba(X_train)[:,1]\n",
    "roc_auc_score(y_train,y_pred_train)"
   ]
  },
  {
   "cell_type": "markdown",
   "id": "9c8e78ec",
   "metadata": {},
   "source": [
    "### Hyper Parameter Tuning using different params\n"
   ]
  },
  {
   "cell_type": "code",
   "execution_count": 117,
   "id": "ccf9e17d",
   "metadata": {},
   "outputs": [
    {
     "name": "stdout",
     "output_type": "stream",
     "text": [
      "ROC AUC SCORE FOR VAL DATASET :0.6116953830088759\n"
     ]
    }
   ],
   "source": [
    "dt=DecisionTreeClassifier(max_depth=10)\n",
    "dt.fit(X_train,y_train)\n",
    "y_pred=dt.predict_proba(X_val)[:,1]\n",
    "roc_auc_score(y_val,y_pred)\n",
    "print(f\"ROC AUC SCORE FOR VAL DATASET :{roc_auc_score(y_val,y_pred)}\")"
   ]
  },
  {
   "cell_type": "code",
   "execution_count": 118,
   "id": "dd695047",
   "metadata": {},
   "outputs": [],
   "source": [
    "from sklearn.tree import export_text"
   ]
  },
  {
   "cell_type": "code",
   "execution_count": 119,
   "id": "fff37027",
   "metadata": {},
   "outputs": [
    {
     "name": "stdout",
     "output_type": "stream",
     "text": [
      "|--- age <= 67.50\n",
      "|   |--- age <= 47.50\n",
      "|   |   |--- bmi <= 56.30\n",
      "|   |   |   |--- age <= 37.50\n",
      "|   |   |   |   |--- age <= 1.50\n",
      "|   |   |   |   |   |--- bmi <= 26.90\n",
      "|   |   |   |   |   |   |--- class: 0\n",
      "|   |   |   |   |   |--- bmi >  26.90\n",
      "|   |   |   |   |   |   |--- gender=male <= 0.50\n",
      "|   |   |   |   |   |   |   |--- class: 1\n",
      "|   |   |   |   |   |   |--- gender=male >  0.50\n",
      "|   |   |   |   |   |   |   |--- class: 0\n",
      "|   |   |   |   |--- age >  1.50\n",
      "|   |   |   |   |   |--- class: 0\n",
      "|   |   |   |--- age >  37.50\n",
      "|   |   |   |   |--- avg_glucose_level <= 58.14\n",
      "|   |   |   |   |   |--- avg_glucose_level <= 57.94\n",
      "|   |   |   |   |   |   |--- class: 0\n",
      "|   |   |   |   |   |--- avg_glucose_level >  57.94\n",
      "|   |   |   |   |   |   |--- class: 1\n",
      "|   |   |   |   |--- avg_glucose_level >  58.14\n",
      "|   |   |   |   |   |--- smoking_status=formerly_smoked <= 0.50\n",
      "|   |   |   |   |   |   |--- avg_glucose_level <= 83.43\n",
      "|   |   |   |   |   |   |   |--- avg_glucose_level <= 83.36\n",
      "|   |   |   |   |   |   |   |   |--- age <= 45.50\n",
      "|   |   |   |   |   |   |   |   |   |--- class: 0\n",
      "|   |   |   |   |   |   |   |   |--- age >  45.50\n",
      "|   |   |   |   |   |   |   |   |   |--- avg_glucose_level <= 76.91\n",
      "|   |   |   |   |   |   |   |   |   |   |--- class: 0\n",
      "|   |   |   |   |   |   |   |   |   |--- avg_glucose_level >  76.91\n",
      "|   |   |   |   |   |   |   |   |   |   |--- class: 0\n",
      "|   |   |   |   |   |   |   |--- avg_glucose_level >  83.36\n",
      "|   |   |   |   |   |   |   |   |--- class: 1\n",
      "|   |   |   |   |   |   |--- avg_glucose_level >  83.43\n",
      "|   |   |   |   |   |   |   |--- class: 0\n",
      "|   |   |   |   |   |--- smoking_status=formerly_smoked >  0.50\n",
      "|   |   |   |   |   |   |--- age <= 38.50\n",
      "|   |   |   |   |   |   |   |--- work_type=private <= 0.50\n",
      "|   |   |   |   |   |   |   |   |--- class: 1\n",
      "|   |   |   |   |   |   |   |--- work_type=private >  0.50\n",
      "|   |   |   |   |   |   |   |   |--- class: 0\n",
      "|   |   |   |   |   |   |--- age >  38.50\n",
      "|   |   |   |   |   |   |   |--- avg_glucose_level <= 92.93\n",
      "|   |   |   |   |   |   |   |   |--- class: 0\n",
      "|   |   |   |   |   |   |   |--- avg_glucose_level >  92.93\n",
      "|   |   |   |   |   |   |   |   |--- avg_glucose_level <= 94.24\n",
      "|   |   |   |   |   |   |   |   |   |--- class: 1\n",
      "|   |   |   |   |   |   |   |   |--- avg_glucose_level >  94.24\n",
      "|   |   |   |   |   |   |   |   |   |--- class: 0\n",
      "|   |   |--- bmi >  56.30\n",
      "|   |   |   |--- age <= 44.00\n",
      "|   |   |   |   |--- class: 0\n",
      "|   |   |   |--- age >  44.00\n",
      "|   |   |   |   |--- class: 1\n",
      "|   |--- age >  47.50\n",
      "|   |   |--- avg_glucose_level <= 150.81\n",
      "|   |   |   |--- gender=male <= 0.50\n",
      "|   |   |   |   |--- work_type=govt_job <= 0.50\n",
      "|   |   |   |   |   |--- age <= 49.50\n",
      "|   |   |   |   |   |   |--- bmi <= 21.75\n",
      "|   |   |   |   |   |   |   |--- age <= 48.50\n",
      "|   |   |   |   |   |   |   |   |--- class: 1\n",
      "|   |   |   |   |   |   |   |--- age >  48.50\n",
      "|   |   |   |   |   |   |   |   |--- class: 0\n",
      "|   |   |   |   |   |   |--- bmi >  21.75\n",
      "|   |   |   |   |   |   |   |--- avg_glucose_level <= 61.24\n",
      "|   |   |   |   |   |   |   |   |--- smoking_status=never_smoked <= 0.50\n",
      "|   |   |   |   |   |   |   |   |   |--- class: 0\n",
      "|   |   |   |   |   |   |   |   |--- smoking_status=never_smoked >  0.50\n",
      "|   |   |   |   |   |   |   |   |   |--- class: 1\n",
      "|   |   |   |   |   |   |   |--- avg_glucose_level >  61.24\n",
      "|   |   |   |   |   |   |   |   |--- class: 0\n",
      "|   |   |   |   |   |--- age >  49.50\n",
      "|   |   |   |   |   |   |--- bmi <= 26.50\n",
      "|   |   |   |   |   |   |   |--- bmi <= 26.30\n",
      "|   |   |   |   |   |   |   |   |--- class: 0\n",
      "|   |   |   |   |   |   |   |--- bmi >  26.30\n",
      "|   |   |   |   |   |   |   |   |--- age <= 61.50\n",
      "|   |   |   |   |   |   |   |   |   |--- class: 1\n",
      "|   |   |   |   |   |   |   |   |--- age >  61.50\n",
      "|   |   |   |   |   |   |   |   |   |--- class: 0\n",
      "|   |   |   |   |   |   |--- bmi >  26.50\n",
      "|   |   |   |   |   |   |   |--- class: 0\n",
      "|   |   |   |   |--- work_type=govt_job >  0.50\n",
      "|   |   |   |   |   |--- avg_glucose_level <= 102.62\n",
      "|   |   |   |   |   |   |--- hypertension <= 0.50\n",
      "|   |   |   |   |   |   |   |--- class: 0\n",
      "|   |   |   |   |   |   |--- hypertension >  0.50\n",
      "|   |   |   |   |   |   |   |--- avg_glucose_level <= 72.23\n",
      "|   |   |   |   |   |   |   |   |--- avg_glucose_level <= 63.65\n",
      "|   |   |   |   |   |   |   |   |   |--- class: 0\n",
      "|   |   |   |   |   |   |   |   |--- avg_glucose_level >  63.65\n",
      "|   |   |   |   |   |   |   |   |   |--- class: 1\n",
      "|   |   |   |   |   |   |   |--- avg_glucose_level >  72.23\n",
      "|   |   |   |   |   |   |   |   |--- class: 0\n",
      "|   |   |   |   |   |--- avg_glucose_level >  102.62\n",
      "|   |   |   |   |   |   |--- hypertension <= 0.50\n",
      "|   |   |   |   |   |   |   |--- avg_glucose_level <= 103.72\n",
      "|   |   |   |   |   |   |   |   |--- class: 1\n",
      "|   |   |   |   |   |   |   |--- avg_glucose_level >  103.72\n",
      "|   |   |   |   |   |   |   |   |--- bmi <= 35.95\n",
      "|   |   |   |   |   |   |   |   |   |--- smoking_status=unknown <= 0.50\n",
      "|   |   |   |   |   |   |   |   |   |   |--- class: 0\n",
      "|   |   |   |   |   |   |   |   |   |--- smoking_status=unknown >  0.50\n",
      "|   |   |   |   |   |   |   |   |   |   |--- class: 0\n",
      "|   |   |   |   |   |   |   |   |--- bmi >  35.95\n",
      "|   |   |   |   |   |   |   |   |   |--- heart_disease <= 0.50\n",
      "|   |   |   |   |   |   |   |   |   |   |--- class: 0\n",
      "|   |   |   |   |   |   |   |   |   |--- heart_disease >  0.50\n",
      "|   |   |   |   |   |   |   |   |   |   |--- class: 1\n",
      "|   |   |   |   |   |   |--- hypertension >  0.50\n",
      "|   |   |   |   |   |   |   |--- class: 1\n",
      "|   |   |   |--- gender=male >  0.50\n",
      "|   |   |   |   |--- bmi <= 27.25\n",
      "|   |   |   |   |   |--- class: 0\n",
      "|   |   |   |   |--- bmi >  27.25\n",
      "|   |   |   |   |   |--- bmi <= 32.05\n",
      "|   |   |   |   |   |   |--- bmi <= 31.60\n",
      "|   |   |   |   |   |   |   |--- smoking_status=smokes <= 0.50\n",
      "|   |   |   |   |   |   |   |   |--- age <= 48.50\n",
      "|   |   |   |   |   |   |   |   |   |--- ever_married=no <= 0.50\n",
      "|   |   |   |   |   |   |   |   |   |   |--- class: 0\n",
      "|   |   |   |   |   |   |   |   |   |--- ever_married=no >  0.50\n",
      "|   |   |   |   |   |   |   |   |   |   |--- class: 1\n",
      "|   |   |   |   |   |   |   |   |--- age >  48.50\n",
      "|   |   |   |   |   |   |   |   |   |--- bmi <= 28.90\n",
      "|   |   |   |   |   |   |   |   |   |   |--- class: 0\n",
      "|   |   |   |   |   |   |   |   |   |--- bmi >  28.90\n",
      "|   |   |   |   |   |   |   |   |   |   |--- class: 0\n",
      "|   |   |   |   |   |   |   |--- smoking_status=smokes >  0.50\n",
      "|   |   |   |   |   |   |   |   |--- bmi <= 27.40\n",
      "|   |   |   |   |   |   |   |   |   |--- age <= 60.00\n",
      "|   |   |   |   |   |   |   |   |   |   |--- class: 0\n",
      "|   |   |   |   |   |   |   |   |   |--- age >  60.00\n",
      "|   |   |   |   |   |   |   |   |   |   |--- class: 1\n",
      "|   |   |   |   |   |   |   |   |--- bmi >  27.40\n",
      "|   |   |   |   |   |   |   |   |   |--- avg_glucose_level <= 98.33\n",
      "|   |   |   |   |   |   |   |   |   |   |--- class: 0\n",
      "|   |   |   |   |   |   |   |   |   |--- avg_glucose_level >  98.33\n",
      "|   |   |   |   |   |   |   |   |   |   |--- class: 0\n",
      "|   |   |   |   |   |   |--- bmi >  31.60\n",
      "|   |   |   |   |   |   |   |--- work_type=private <= 0.50\n",
      "|   |   |   |   |   |   |   |   |--- class: 0\n",
      "|   |   |   |   |   |   |   |--- work_type=private >  0.50\n",
      "|   |   |   |   |   |   |   |   |--- smoking_status=never_smoked <= 0.50\n",
      "|   |   |   |   |   |   |   |   |   |--- class: 1\n",
      "|   |   |   |   |   |   |   |   |--- smoking_status=never_smoked >  0.50\n",
      "|   |   |   |   |   |   |   |   |   |--- class: 0\n",
      "|   |   |   |   |   |--- bmi >  32.05\n",
      "|   |   |   |   |   |   |--- heart_disease <= 0.50\n",
      "|   |   |   |   |   |   |   |--- smoking_status=unknown <= 0.50\n",
      "|   |   |   |   |   |   |   |   |--- class: 0\n",
      "|   |   |   |   |   |   |   |--- smoking_status=unknown >  0.50\n",
      "|   |   |   |   |   |   |   |   |--- bmi <= 36.45\n",
      "|   |   |   |   |   |   |   |   |   |--- class: 0\n",
      "|   |   |   |   |   |   |   |   |--- bmi >  36.45\n",
      "|   |   |   |   |   |   |   |   |   |--- bmi <= 37.35\n",
      "|   |   |   |   |   |   |   |   |   |   |--- class: 1\n",
      "|   |   |   |   |   |   |   |   |   |--- bmi >  37.35\n",
      "|   |   |   |   |   |   |   |   |   |   |--- class: 0\n",
      "|   |   |   |   |   |   |--- heart_disease >  0.50\n",
      "|   |   |   |   |   |   |   |--- work_type=self-employed <= 0.50\n",
      "|   |   |   |   |   |   |   |   |--- class: 0\n",
      "|   |   |   |   |   |   |   |--- work_type=self-employed >  0.50\n",
      "|   |   |   |   |   |   |   |   |--- class: 1\n",
      "|   |   |--- avg_glucose_level >  150.81\n",
      "|   |   |   |--- avg_glucose_level <= 151.36\n",
      "|   |   |   |   |--- class: 1\n",
      "|   |   |   |--- avg_glucose_level >  151.36\n",
      "|   |   |   |   |--- heart_disease <= 0.50\n",
      "|   |   |   |   |   |--- avg_glucose_level <= 197.61\n",
      "|   |   |   |   |   |   |--- avg_glucose_level <= 197.19\n",
      "|   |   |   |   |   |   |   |--- gender=male <= 0.50\n",
      "|   |   |   |   |   |   |   |   |--- age <= 51.50\n",
      "|   |   |   |   |   |   |   |   |   |--- bmi <= 38.30\n",
      "|   |   |   |   |   |   |   |   |   |   |--- class: 1\n",
      "|   |   |   |   |   |   |   |   |   |--- bmi >  38.30\n",
      "|   |   |   |   |   |   |   |   |   |   |--- class: 0\n",
      "|   |   |   |   |   |   |   |   |--- age >  51.50\n",
      "|   |   |   |   |   |   |   |   |   |--- age <= 66.00\n",
      "|   |   |   |   |   |   |   |   |   |   |--- class: 0\n",
      "|   |   |   |   |   |   |   |   |   |--- age >  66.00\n",
      "|   |   |   |   |   |   |   |   |   |   |--- class: 1\n",
      "|   |   |   |   |   |   |   |--- gender=male >  0.50\n",
      "|   |   |   |   |   |   |   |   |--- smoking_status=unknown <= 0.50\n",
      "|   |   |   |   |   |   |   |   |   |--- class: 0\n",
      "|   |   |   |   |   |   |   |   |--- smoking_status=unknown >  0.50\n",
      "|   |   |   |   |   |   |   |   |   |--- residence_type=urban <= 0.50\n",
      "|   |   |   |   |   |   |   |   |   |   |--- class: 0\n",
      "|   |   |   |   |   |   |   |   |   |--- residence_type=urban >  0.50\n",
      "|   |   |   |   |   |   |   |   |   |   |--- class: 0\n",
      "|   |   |   |   |   |   |--- avg_glucose_level >  197.19\n",
      "|   |   |   |   |   |   |   |--- class: 1\n",
      "|   |   |   |   |   |--- avg_glucose_level >  197.61\n",
      "|   |   |   |   |   |   |--- bmi <= 20.80\n",
      "|   |   |   |   |   |   |   |--- bmi <= 17.20\n",
      "|   |   |   |   |   |   |   |   |--- class: 0\n",
      "|   |   |   |   |   |   |   |--- bmi >  17.20\n",
      "|   |   |   |   |   |   |   |   |--- class: 1\n",
      "|   |   |   |   |   |   |--- bmi >  20.80\n",
      "|   |   |   |   |   |   |   |--- bmi <= 42.00\n",
      "|   |   |   |   |   |   |   |   |--- smoking_status=never_smoked <= 0.50\n",
      "|   |   |   |   |   |   |   |   |   |--- class: 0\n",
      "|   |   |   |   |   |   |   |   |--- smoking_status=never_smoked >  0.50\n",
      "|   |   |   |   |   |   |   |   |   |--- avg_glucose_level <= 246.81\n",
      "|   |   |   |   |   |   |   |   |   |   |--- class: 0\n",
      "|   |   |   |   |   |   |   |   |   |--- avg_glucose_level >  246.81\n",
      "|   |   |   |   |   |   |   |   |   |   |--- class: 0\n",
      "|   |   |   |   |   |   |   |--- bmi >  42.00\n",
      "|   |   |   |   |   |   |   |   |--- bmi <= 42.25\n",
      "|   |   |   |   |   |   |   |   |   |--- class: 1\n",
      "|   |   |   |   |   |   |   |   |--- bmi >  42.25\n",
      "|   |   |   |   |   |   |   |   |   |--- residence_type=urban <= 0.50\n",
      "|   |   |   |   |   |   |   |   |   |   |--- class: 0\n",
      "|   |   |   |   |   |   |   |   |   |--- residence_type=urban >  0.50\n",
      "|   |   |   |   |   |   |   |   |   |   |--- class: 0\n",
      "|   |   |   |   |--- heart_disease >  0.50\n",
      "|   |   |   |   |   |--- avg_glucose_level <= 240.27\n",
      "|   |   |   |   |   |   |--- bmi <= 36.10\n",
      "|   |   |   |   |   |   |   |--- avg_glucose_level <= 213.97\n",
      "|   |   |   |   |   |   |   |   |--- class: 0\n",
      "|   |   |   |   |   |   |   |--- avg_glucose_level >  213.97\n",
      "|   |   |   |   |   |   |   |   |--- bmi <= 31.60\n",
      "|   |   |   |   |   |   |   |   |   |--- class: 1\n",
      "|   |   |   |   |   |   |   |   |--- bmi >  31.60\n",
      "|   |   |   |   |   |   |   |   |   |--- class: 0\n",
      "|   |   |   |   |   |   |--- bmi >  36.10\n",
      "|   |   |   |   |   |   |   |--- avg_glucose_level <= 215.32\n",
      "|   |   |   |   |   |   |   |   |--- class: 1\n",
      "|   |   |   |   |   |   |   |--- avg_glucose_level >  215.32\n",
      "|   |   |   |   |   |   |   |   |--- class: 0\n",
      "|   |   |   |   |   |--- avg_glucose_level >  240.27\n",
      "|   |   |   |   |   |   |--- class: 1\n",
      "|--- age >  67.50\n",
      "|   |--- avg_glucose_level <= 103.64\n",
      "|   |   |--- hypertension <= 0.50\n",
      "|   |   |   |--- bmi <= 43.80\n",
      "|   |   |   |   |--- bmi <= 34.50\n",
      "|   |   |   |   |   |--- smoking_status=smokes <= 0.50\n",
      "|   |   |   |   |   |   |--- bmi <= 31.95\n",
      "|   |   |   |   |   |   |   |--- ever_married=no <= 0.50\n",
      "|   |   |   |   |   |   |   |   |--- avg_glucose_level <= 102.76\n",
      "|   |   |   |   |   |   |   |   |   |--- age <= 73.50\n",
      "|   |   |   |   |   |   |   |   |   |   |--- class: 0\n",
      "|   |   |   |   |   |   |   |   |   |--- age >  73.50\n",
      "|   |   |   |   |   |   |   |   |   |   |--- class: 0\n",
      "|   |   |   |   |   |   |   |   |--- avg_glucose_level >  102.76\n",
      "|   |   |   |   |   |   |   |   |   |--- age <= 71.50\n",
      "|   |   |   |   |   |   |   |   |   |   |--- class: 1\n",
      "|   |   |   |   |   |   |   |   |   |--- age >  71.50\n",
      "|   |   |   |   |   |   |   |   |   |   |--- class: 0\n",
      "|   |   |   |   |   |   |   |--- ever_married=no >  0.50\n",
      "|   |   |   |   |   |   |   |   |--- work_type=self-employed <= 0.50\n",
      "|   |   |   |   |   |   |   |   |   |--- bmi <= 29.25\n",
      "|   |   |   |   |   |   |   |   |   |   |--- class: 1\n",
      "|   |   |   |   |   |   |   |   |   |--- bmi >  29.25\n",
      "|   |   |   |   |   |   |   |   |   |   |--- class: 0\n",
      "|   |   |   |   |   |   |   |   |--- work_type=self-employed >  0.50\n",
      "|   |   |   |   |   |   |   |   |   |--- class: 0\n",
      "|   |   |   |   |   |   |--- bmi >  31.95\n",
      "|   |   |   |   |   |   |   |--- smoking_status=never_smoked <= 0.50\n",
      "|   |   |   |   |   |   |   |   |--- age <= 70.50\n",
      "|   |   |   |   |   |   |   |   |   |--- bmi <= 32.90\n",
      "|   |   |   |   |   |   |   |   |   |   |--- class: 1\n",
      "|   |   |   |   |   |   |   |   |   |--- bmi >  32.90\n",
      "|   |   |   |   |   |   |   |   |   |   |--- class: 0\n",
      "|   |   |   |   |   |   |   |   |--- age >  70.50\n",
      "|   |   |   |   |   |   |   |   |   |--- class: 0\n",
      "|   |   |   |   |   |   |   |--- smoking_status=never_smoked >  0.50\n",
      "|   |   |   |   |   |   |   |   |--- bmi <= 33.10\n",
      "|   |   |   |   |   |   |   |   |   |--- bmi <= 32.10\n",
      "|   |   |   |   |   |   |   |   |   |   |--- class: 1\n",
      "|   |   |   |   |   |   |   |   |   |--- bmi >  32.10\n",
      "|   |   |   |   |   |   |   |   |   |   |--- class: 0\n",
      "|   |   |   |   |   |   |   |   |--- bmi >  33.10\n",
      "|   |   |   |   |   |   |   |   |   |--- avg_glucose_level <= 80.39\n",
      "|   |   |   |   |   |   |   |   |   |   |--- class: 1\n",
      "|   |   |   |   |   |   |   |   |   |--- avg_glucose_level >  80.39\n",
      "|   |   |   |   |   |   |   |   |   |   |--- class: 0\n",
      "|   |   |   |   |   |--- smoking_status=smokes >  0.50\n",
      "|   |   |   |   |   |   |--- age <= 71.50\n",
      "|   |   |   |   |   |   |   |--- avg_glucose_level <= 77.79\n",
      "|   |   |   |   |   |   |   |   |--- class: 0\n",
      "|   |   |   |   |   |   |   |--- avg_glucose_level >  77.79\n",
      "|   |   |   |   |   |   |   |   |--- class: 1\n",
      "|   |   |   |   |   |   |--- age >  71.50\n",
      "|   |   |   |   |   |   |   |--- age <= 78.50\n",
      "|   |   |   |   |   |   |   |   |--- class: 0\n",
      "|   |   |   |   |   |   |   |--- age >  78.50\n",
      "|   |   |   |   |   |   |   |   |--- work_type=self-employed <= 0.50\n",
      "|   |   |   |   |   |   |   |   |   |--- avg_glucose_level <= 68.45\n",
      "|   |   |   |   |   |   |   |   |   |   |--- class: 0\n",
      "|   |   |   |   |   |   |   |   |   |--- avg_glucose_level >  68.45\n",
      "|   |   |   |   |   |   |   |   |   |   |--- class: 1\n",
      "|   |   |   |   |   |   |   |   |--- work_type=self-employed >  0.50\n",
      "|   |   |   |   |   |   |   |   |   |--- class: 0\n",
      "|   |   |   |   |--- bmi >  34.50\n",
      "|   |   |   |   |   |--- class: 0\n",
      "|   |   |   |--- bmi >  43.80\n",
      "|   |   |   |   |--- class: 1\n",
      "|   |   |--- hypertension >  0.50\n",
      "|   |   |   |--- avg_glucose_level <= 66.01\n",
      "|   |   |   |   |--- class: 0\n",
      "|   |   |   |--- avg_glucose_level >  66.01\n",
      "|   |   |   |   |--- avg_glucose_level <= 93.89\n",
      "|   |   |   |   |   |--- ever_married=yes <= 0.50\n",
      "|   |   |   |   |   |   |--- residence_type=rural <= 0.50\n",
      "|   |   |   |   |   |   |   |--- class: 1\n",
      "|   |   |   |   |   |   |--- residence_type=rural >  0.50\n",
      "|   |   |   |   |   |   |   |--- class: 0\n",
      "|   |   |   |   |   |--- ever_married=yes >  0.50\n",
      "|   |   |   |   |   |   |--- avg_glucose_level <= 88.98\n",
      "|   |   |   |   |   |   |   |--- bmi <= 30.00\n",
      "|   |   |   |   |   |   |   |   |--- age <= 80.50\n",
      "|   |   |   |   |   |   |   |   |   |--- smoking_status=unknown <= 0.50\n",
      "|   |   |   |   |   |   |   |   |   |   |--- class: 0\n",
      "|   |   |   |   |   |   |   |   |   |--- smoking_status=unknown >  0.50\n",
      "|   |   |   |   |   |   |   |   |   |   |--- class: 1\n",
      "|   |   |   |   |   |   |   |   |--- age >  80.50\n",
      "|   |   |   |   |   |   |   |   |   |--- class: 1\n",
      "|   |   |   |   |   |   |   |--- bmi >  30.00\n",
      "|   |   |   |   |   |   |   |   |--- class: 0\n",
      "|   |   |   |   |   |   |--- avg_glucose_level >  88.98\n",
      "|   |   |   |   |   |   |   |--- smoking_status=formerly_smoked <= 0.50\n",
      "|   |   |   |   |   |   |   |   |--- class: 0\n",
      "|   |   |   |   |   |   |   |--- smoking_status=formerly_smoked >  0.50\n",
      "|   |   |   |   |   |   |   |   |--- class: 1\n",
      "|   |   |   |   |--- avg_glucose_level >  93.89\n",
      "|   |   |   |   |   |--- class: 0\n",
      "|   |--- avg_glucose_level >  103.64\n",
      "|   |   |--- age <= 73.50\n",
      "|   |   |   |--- bmi <= 40.40\n",
      "|   |   |   |   |--- work_type=govt_job <= 0.50\n",
      "|   |   |   |   |   |--- residence_type=urban <= 0.50\n",
      "|   |   |   |   |   |   |--- class: 0\n",
      "|   |   |   |   |   |--- residence_type=urban >  0.50\n",
      "|   |   |   |   |   |   |--- avg_glucose_level <= 194.92\n",
      "|   |   |   |   |   |   |   |--- class: 0\n",
      "|   |   |   |   |   |   |--- avg_glucose_level >  194.92\n",
      "|   |   |   |   |   |   |   |--- avg_glucose_level <= 196.96\n",
      "|   |   |   |   |   |   |   |   |--- age <= 68.50\n",
      "|   |   |   |   |   |   |   |   |   |--- class: 0\n",
      "|   |   |   |   |   |   |   |   |--- age >  68.50\n",
      "|   |   |   |   |   |   |   |   |   |--- class: 1\n",
      "|   |   |   |   |   |   |   |--- avg_glucose_level >  196.96\n",
      "|   |   |   |   |   |   |   |   |--- smoking_status=unknown <= 0.50\n",
      "|   |   |   |   |   |   |   |   |   |--- class: 0\n",
      "|   |   |   |   |   |   |   |   |--- smoking_status=unknown >  0.50\n",
      "|   |   |   |   |   |   |   |   |   |--- age <= 71.50\n",
      "|   |   |   |   |   |   |   |   |   |   |--- class: 0\n",
      "|   |   |   |   |   |   |   |   |   |--- age >  71.50\n",
      "|   |   |   |   |   |   |   |   |   |   |--- class: 1\n",
      "|   |   |   |   |--- work_type=govt_job >  0.50\n",
      "|   |   |   |   |   |--- age <= 70.50\n",
      "|   |   |   |   |   |   |--- class: 0\n",
      "|   |   |   |   |   |--- age >  70.50\n",
      "|   |   |   |   |   |   |--- avg_glucose_level <= 118.57\n",
      "|   |   |   |   |   |   |   |--- class: 0\n",
      "|   |   |   |   |   |   |--- avg_glucose_level >  118.57\n",
      "|   |   |   |   |   |   |   |--- gender=female <= 0.50\n",
      "|   |   |   |   |   |   |   |   |--- hypertension <= 0.50\n",
      "|   |   |   |   |   |   |   |   |   |--- class: 0\n",
      "|   |   |   |   |   |   |   |   |--- hypertension >  0.50\n",
      "|   |   |   |   |   |   |   |   |   |--- class: 1\n",
      "|   |   |   |   |   |   |   |--- gender=female >  0.50\n",
      "|   |   |   |   |   |   |   |   |--- class: 1\n",
      "|   |   |   |--- bmi >  40.40\n",
      "|   |   |   |   |--- avg_glucose_level <= 226.74\n",
      "|   |   |   |   |   |--- class: 0\n",
      "|   |   |   |   |--- avg_glucose_level >  226.74\n",
      "|   |   |   |   |   |--- class: 1\n",
      "|   |   |--- age >  73.50\n",
      "|   |   |   |--- avg_glucose_level <= 105.92\n",
      "|   |   |   |   |--- gender=male <= 0.50\n",
      "|   |   |   |   |   |--- smoking_status=never_smoked <= 0.50\n",
      "|   |   |   |   |   |   |--- class: 0\n",
      "|   |   |   |   |   |--- smoking_status=never_smoked >  0.50\n",
      "|   |   |   |   |   |   |--- class: 1\n",
      "|   |   |   |   |--- gender=male >  0.50\n",
      "|   |   |   |   |   |--- class: 1\n",
      "|   |   |   |--- avg_glucose_level >  105.92\n",
      "|   |   |   |   |--- avg_glucose_level <= 200.66\n",
      "|   |   |   |   |   |--- avg_glucose_level <= 123.81\n",
      "|   |   |   |   |   |   |--- residence_type=urban <= 0.50\n",
      "|   |   |   |   |   |   |   |--- class: 0\n",
      "|   |   |   |   |   |   |--- residence_type=urban >  0.50\n",
      "|   |   |   |   |   |   |   |--- bmi <= 32.00\n",
      "|   |   |   |   |   |   |   |   |--- smoking_status=never_smoked <= 0.50\n",
      "|   |   |   |   |   |   |   |   |   |--- bmi <= 28.30\n",
      "|   |   |   |   |   |   |   |   |   |   |--- class: 0\n",
      "|   |   |   |   |   |   |   |   |   |--- bmi >  28.30\n",
      "|   |   |   |   |   |   |   |   |   |   |--- class: 1\n",
      "|   |   |   |   |   |   |   |   |--- smoking_status=never_smoked >  0.50\n",
      "|   |   |   |   |   |   |   |   |   |--- avg_glucose_level <= 115.09\n",
      "|   |   |   |   |   |   |   |   |   |   |--- class: 0\n",
      "|   |   |   |   |   |   |   |   |   |--- avg_glucose_level >  115.09\n",
      "|   |   |   |   |   |   |   |   |   |   |--- class: 0\n",
      "|   |   |   |   |   |   |   |--- bmi >  32.00\n",
      "|   |   |   |   |   |   |   |   |--- class: 1\n",
      "|   |   |   |   |   |--- avg_glucose_level >  123.81\n",
      "|   |   |   |   |   |   |--- bmi <= 33.95\n",
      "|   |   |   |   |   |   |   |--- bmi <= 23.05\n",
      "|   |   |   |   |   |   |   |   |--- class: 1\n",
      "|   |   |   |   |   |   |   |--- bmi >  23.05\n",
      "|   |   |   |   |   |   |   |   |--- age <= 81.50\n",
      "|   |   |   |   |   |   |   |   |   |--- bmi <= 31.20\n",
      "|   |   |   |   |   |   |   |   |   |   |--- class: 0\n",
      "|   |   |   |   |   |   |   |   |   |--- bmi >  31.20\n",
      "|   |   |   |   |   |   |   |   |   |   |--- class: 1\n",
      "|   |   |   |   |   |   |   |   |--- age >  81.50\n",
      "|   |   |   |   |   |   |   |   |   |--- class: 1\n",
      "|   |   |   |   |   |   |--- bmi >  33.95\n",
      "|   |   |   |   |   |   |   |--- class: 0\n",
      "|   |   |   |   |--- avg_glucose_level >  200.66\n",
      "|   |   |   |   |   |--- bmi <= 26.35\n",
      "|   |   |   |   |   |   |--- class: 0\n",
      "|   |   |   |   |   |--- bmi >  26.35\n",
      "|   |   |   |   |   |   |--- bmi <= 29.15\n",
      "|   |   |   |   |   |   |   |--- residence_type=rural <= 0.50\n",
      "|   |   |   |   |   |   |   |   |--- avg_glucose_level <= 213.74\n",
      "|   |   |   |   |   |   |   |   |   |--- class: 0\n",
      "|   |   |   |   |   |   |   |   |--- avg_glucose_level >  213.74\n",
      "|   |   |   |   |   |   |   |   |   |--- avg_glucose_level <= 221.18\n",
      "|   |   |   |   |   |   |   |   |   |   |--- class: 1\n",
      "|   |   |   |   |   |   |   |   |   |--- avg_glucose_level >  221.18\n",
      "|   |   |   |   |   |   |   |   |   |   |--- class: 0\n",
      "|   |   |   |   |   |   |   |--- residence_type=rural >  0.50\n",
      "|   |   |   |   |   |   |   |   |--- class: 0\n",
      "|   |   |   |   |   |   |--- bmi >  29.15\n",
      "|   |   |   |   |   |   |   |--- age <= 74.50\n",
      "|   |   |   |   |   |   |   |   |--- smoking_status=never_smoked <= 0.50\n",
      "|   |   |   |   |   |   |   |   |   |--- class: 1\n",
      "|   |   |   |   |   |   |   |   |--- smoking_status=never_smoked >  0.50\n",
      "|   |   |   |   |   |   |   |   |   |--- class: 0\n",
      "|   |   |   |   |   |   |   |--- age >  74.50\n",
      "|   |   |   |   |   |   |   |   |--- avg_glucose_level <= 207.46\n",
      "|   |   |   |   |   |   |   |   |   |--- avg_glucose_level <= 203.04\n",
      "|   |   |   |   |   |   |   |   |   |   |--- class: 0\n",
      "|   |   |   |   |   |   |   |   |   |--- avg_glucose_level >  203.04\n",
      "|   |   |   |   |   |   |   |   |   |   |--- class: 1\n",
      "|   |   |   |   |   |   |   |   |--- avg_glucose_level >  207.46\n",
      "|   |   |   |   |   |   |   |   |   |--- class: 0\n",
      "\n"
     ]
    }
   ],
   "source": [
    "print(export_text(dt,feature_names=dv.get_feature_names()))"
   ]
  },
  {
   "cell_type": "code",
   "execution_count": 120,
   "id": "14b9fb5f",
   "metadata": {},
   "outputs": [
    {
     "data": {
      "text/html": [
       "<div>\n",
       "<style scoped>\n",
       "    .dataframe tbody tr th:only-of-type {\n",
       "        vertical-align: middle;\n",
       "    }\n",
       "\n",
       "    .dataframe tbody tr th {\n",
       "        vertical-align: top;\n",
       "    }\n",
       "\n",
       "    .dataframe thead th {\n",
       "        text-align: right;\n",
       "    }\n",
       "</style>\n",
       "<table border=\"1\" class=\"dataframe\">\n",
       "  <thead>\n",
       "    <tr style=\"text-align: right;\">\n",
       "      <th></th>\n",
       "      <th>depth</th>\n",
       "      <th>auc</th>\n",
       "    </tr>\n",
       "  </thead>\n",
       "  <tbody>\n",
       "    <tr>\n",
       "      <th>1</th>\n",
       "      <td>2</td>\n",
       "      <td>0.789376</td>\n",
       "    </tr>\n",
       "    <tr>\n",
       "      <th>2</th>\n",
       "      <td>3</td>\n",
       "      <td>0.785025</td>\n",
       "    </tr>\n",
       "    <tr>\n",
       "      <th>3</th>\n",
       "      <td>4</td>\n",
       "      <td>0.764675</td>\n",
       "    </tr>\n",
       "    <tr>\n",
       "      <th>4</th>\n",
       "      <td>5</td>\n",
       "      <td>0.762189</td>\n",
       "    </tr>\n",
       "    <tr>\n",
       "      <th>5</th>\n",
       "      <td>6</td>\n",
       "      <td>0.731819</td>\n",
       "    </tr>\n",
       "    <tr>\n",
       "      <th>...</th>\n",
       "      <td>...</td>\n",
       "      <td>...</td>\n",
       "    </tr>\n",
       "    <tr>\n",
       "      <th>34</th>\n",
       "      <td>35</td>\n",
       "      <td>0.546157</td>\n",
       "    </tr>\n",
       "    <tr>\n",
       "      <th>26</th>\n",
       "      <td>27</td>\n",
       "      <td>0.544628</td>\n",
       "    </tr>\n",
       "    <tr>\n",
       "      <th>35</th>\n",
       "      <td>36</td>\n",
       "      <td>0.544119</td>\n",
       "    </tr>\n",
       "    <tr>\n",
       "      <th>83</th>\n",
       "      <td>84</td>\n",
       "      <td>0.534982</td>\n",
       "    </tr>\n",
       "    <tr>\n",
       "      <th>71</th>\n",
       "      <td>72</td>\n",
       "      <td>0.534472</td>\n",
       "    </tr>\n",
       "  </tbody>\n",
       "</table>\n",
       "<p>100 rows × 2 columns</p>\n",
       "</div>"
      ],
      "text/plain": [
       "    depth       auc\n",
       "1       2  0.789376\n",
       "2       3  0.785025\n",
       "3       4  0.764675\n",
       "4       5  0.762189\n",
       "5       6  0.731819\n",
       "..    ...       ...\n",
       "34     35  0.546157\n",
       "26     27  0.544628\n",
       "35     36  0.544119\n",
       "83     84  0.534982\n",
       "71     72  0.534472\n",
       "\n",
       "[100 rows x 2 columns]"
      ]
     },
     "execution_count": 120,
     "metadata": {},
     "output_type": "execute_result"
    }
   ],
   "source": [
    "dt_metrics=[]\n",
    "for i in range(1,101,1):\n",
    "    dt=DecisionTreeClassifier(max_depth=i)\n",
    "    dt.fit(X_train,y_train)\n",
    "    y_pred=dt.predict_proba(X_val)[:,1]\n",
    "    auc=roc_auc_score(y_val,y_pred)\n",
    "    dt_metrics.append((i,auc))\n",
    "#     print(f\"ROC AUC SCORE FOR TRAIN DATASET :{roc_auc_score(y_train,y_pred_train)}\")\n",
    "#     print(f\"ROC AUC SCORE FOR VAL DATASET :{roc_auc_score(y_val,y_pred)}\")\n",
    "columns=['depth','auc']\n",
    "df_maxd=pd.DataFrame(dt_metrics,columns=columns)\n",
    "df_maxd.sort_values(by='auc', ascending=False)\n",
    "##Max depth is 4,3,5"
   ]
  },
  {
   "cell_type": "code",
   "execution_count": 121,
   "id": "d0e09a55",
   "metadata": {},
   "outputs": [
    {
     "data": {
      "text/html": [
       "<div>\n",
       "<style scoped>\n",
       "    .dataframe tbody tr th:only-of-type {\n",
       "        vertical-align: middle;\n",
       "    }\n",
       "\n",
       "    .dataframe tbody tr th {\n",
       "        vertical-align: top;\n",
       "    }\n",
       "\n",
       "    .dataframe thead th {\n",
       "        text-align: right;\n",
       "    }\n",
       "</style>\n",
       "<table border=\"1\" class=\"dataframe\">\n",
       "  <thead>\n",
       "    <tr style=\"text-align: right;\">\n",
       "      <th></th>\n",
       "      <th>depth</th>\n",
       "      <th>sample_leaf</th>\n",
       "      <th>auc</th>\n",
       "    </tr>\n",
       "  </thead>\n",
       "  <tbody>\n",
       "    <tr>\n",
       "      <th>4</th>\n",
       "      <td>4</td>\n",
       "      <td>401</td>\n",
       "      <td>0.816</td>\n",
       "    </tr>\n",
       "    <tr>\n",
       "      <th>3</th>\n",
       "      <td>4</td>\n",
       "      <td>301</td>\n",
       "      <td>0.813</td>\n",
       "    </tr>\n",
       "    <tr>\n",
       "      <th>13</th>\n",
       "      <td>3</td>\n",
       "      <td>301</td>\n",
       "      <td>0.810</td>\n",
       "    </tr>\n",
       "    <tr>\n",
       "      <th>14</th>\n",
       "      <td>3</td>\n",
       "      <td>401</td>\n",
       "      <td>0.809</td>\n",
       "    </tr>\n",
       "    <tr>\n",
       "      <th>12</th>\n",
       "      <td>3</td>\n",
       "      <td>201</td>\n",
       "      <td>0.803</td>\n",
       "    </tr>\n",
       "    <tr>\n",
       "      <th>11</th>\n",
       "      <td>3</td>\n",
       "      <td>101</td>\n",
       "      <td>0.801</td>\n",
       "    </tr>\n",
       "    <tr>\n",
       "      <th>2</th>\n",
       "      <td>4</td>\n",
       "      <td>201</td>\n",
       "      <td>0.801</td>\n",
       "    </tr>\n",
       "    <tr>\n",
       "      <th>5</th>\n",
       "      <td>4</td>\n",
       "      <td>501</td>\n",
       "      <td>0.801</td>\n",
       "    </tr>\n",
       "    <tr>\n",
       "      <th>15</th>\n",
       "      <td>3</td>\n",
       "      <td>501</td>\n",
       "      <td>0.795</td>\n",
       "    </tr>\n",
       "    <tr>\n",
       "      <th>6</th>\n",
       "      <td>4</td>\n",
       "      <td>601</td>\n",
       "      <td>0.792</td>\n",
       "    </tr>\n",
       "    <tr>\n",
       "      <th>16</th>\n",
       "      <td>3</td>\n",
       "      <td>601</td>\n",
       "      <td>0.792</td>\n",
       "    </tr>\n",
       "    <tr>\n",
       "      <th>25</th>\n",
       "      <td>2</td>\n",
       "      <td>501</td>\n",
       "      <td>0.790</td>\n",
       "    </tr>\n",
       "    <tr>\n",
       "      <th>24</th>\n",
       "      <td>2</td>\n",
       "      <td>401</td>\n",
       "      <td>0.790</td>\n",
       "    </tr>\n",
       "    <tr>\n",
       "      <th>23</th>\n",
       "      <td>2</td>\n",
       "      <td>301</td>\n",
       "      <td>0.790</td>\n",
       "    </tr>\n",
       "    <tr>\n",
       "      <th>20</th>\n",
       "      <td>2</td>\n",
       "      <td>1</td>\n",
       "      <td>0.789</td>\n",
       "    </tr>\n",
       "    <tr>\n",
       "      <th>26</th>\n",
       "      <td>2</td>\n",
       "      <td>601</td>\n",
       "      <td>0.789</td>\n",
       "    </tr>\n",
       "    <tr>\n",
       "      <th>22</th>\n",
       "      <td>2</td>\n",
       "      <td>201</td>\n",
       "      <td>0.789</td>\n",
       "    </tr>\n",
       "    <tr>\n",
       "      <th>21</th>\n",
       "      <td>2</td>\n",
       "      <td>101</td>\n",
       "      <td>0.789</td>\n",
       "    </tr>\n",
       "    <tr>\n",
       "      <th>1</th>\n",
       "      <td>4</td>\n",
       "      <td>101</td>\n",
       "      <td>0.787</td>\n",
       "    </tr>\n",
       "    <tr>\n",
       "      <th>10</th>\n",
       "      <td>3</td>\n",
       "      <td>1</td>\n",
       "      <td>0.785</td>\n",
       "    </tr>\n",
       "    <tr>\n",
       "      <th>28</th>\n",
       "      <td>2</td>\n",
       "      <td>801</td>\n",
       "      <td>0.776</td>\n",
       "    </tr>\n",
       "    <tr>\n",
       "      <th>27</th>\n",
       "      <td>2</td>\n",
       "      <td>701</td>\n",
       "      <td>0.776</td>\n",
       "    </tr>\n",
       "    <tr>\n",
       "      <th>18</th>\n",
       "      <td>3</td>\n",
       "      <td>801</td>\n",
       "      <td>0.776</td>\n",
       "    </tr>\n",
       "    <tr>\n",
       "      <th>7</th>\n",
       "      <td>4</td>\n",
       "      <td>701</td>\n",
       "      <td>0.776</td>\n",
       "    </tr>\n",
       "    <tr>\n",
       "      <th>8</th>\n",
       "      <td>4</td>\n",
       "      <td>801</td>\n",
       "      <td>0.776</td>\n",
       "    </tr>\n",
       "    <tr>\n",
       "      <th>17</th>\n",
       "      <td>3</td>\n",
       "      <td>701</td>\n",
       "      <td>0.776</td>\n",
       "    </tr>\n",
       "    <tr>\n",
       "      <th>29</th>\n",
       "      <td>2</td>\n",
       "      <td>901</td>\n",
       "      <td>0.773</td>\n",
       "    </tr>\n",
       "    <tr>\n",
       "      <th>19</th>\n",
       "      <td>3</td>\n",
       "      <td>901</td>\n",
       "      <td>0.773</td>\n",
       "    </tr>\n",
       "    <tr>\n",
       "      <th>9</th>\n",
       "      <td>4</td>\n",
       "      <td>901</td>\n",
       "      <td>0.773</td>\n",
       "    </tr>\n",
       "    <tr>\n",
       "      <th>0</th>\n",
       "      <td>4</td>\n",
       "      <td>1</td>\n",
       "      <td>0.765</td>\n",
       "    </tr>\n",
       "  </tbody>\n",
       "</table>\n",
       "</div>"
      ],
      "text/plain": [
       "    depth  sample_leaf    auc\n",
       "4       4          401  0.816\n",
       "3       4          301  0.813\n",
       "13      3          301  0.810\n",
       "14      3          401  0.809\n",
       "12      3          201  0.803\n",
       "11      3          101  0.801\n",
       "2       4          201  0.801\n",
       "5       4          501  0.801\n",
       "15      3          501  0.795\n",
       "6       4          601  0.792\n",
       "16      3          601  0.792\n",
       "25      2          501  0.790\n",
       "24      2          401  0.790\n",
       "23      2          301  0.790\n",
       "20      2            1  0.789\n",
       "26      2          601  0.789\n",
       "22      2          201  0.789\n",
       "21      2          101  0.789\n",
       "1       4          101  0.787\n",
       "10      3            1  0.785\n",
       "28      2          801  0.776\n",
       "27      2          701  0.776\n",
       "18      3          801  0.776\n",
       "7       4          701  0.776\n",
       "8       4          801  0.776\n",
       "17      3          701  0.776\n",
       "29      2          901  0.773\n",
       "19      3          901  0.773\n",
       "9       4          901  0.773\n",
       "0       4            1  0.765"
      ]
     },
     "execution_count": 121,
     "metadata": {},
     "output_type": "execute_result"
    }
   ],
   "source": [
    "dt_metrics=[]\n",
    "for depth in [4,3,2]:\n",
    "    for i in range(1,1000,100):\n",
    "        dt=DecisionTreeClassifier(max_depth=depth, min_samples_leaf=i)\n",
    "        dt.fit(X_train,y_train)\n",
    "        y_pred=dt.predict_proba(X_val)[:,1]\n",
    "        auc=round(roc_auc_score(y_val,y_pred),3)\n",
    "        dt_metrics.append((depth,i,auc))\n",
    "#     print(f\"ROC AUC SCORE FOR TRAIN DATASET :{roc_auc_score(y_train,y_pred_train)}\")\n",
    "#     print(f\"ROC AUC SCORE FOR VAL DATASET :{roc_auc_score(y_val,y_pred)}\")\n",
    "columns=['depth','sample_leaf','auc']\n",
    "df_maxd=pd.DataFrame(dt_metrics,columns=columns)\n",
    "df_maxd.sort_values(by='auc', ascending=False)\n"
   ]
  },
  {
   "cell_type": "code",
   "execution_count": 122,
   "id": "d53cc9d4",
   "metadata": {},
   "outputs": [],
   "source": [
    "df_maxd_pivot=df_maxd.pivot(index='sample_leaf', columns=['depth'])"
   ]
  },
  {
   "cell_type": "code",
   "execution_count": 123,
   "id": "9ade1476",
   "metadata": {},
   "outputs": [
    {
     "data": {
      "text/plain": [
       "<AxesSubplot:xlabel='None-depth', ylabel='sample_leaf'>"
      ]
     },
     "execution_count": 123,
     "metadata": {},
     "output_type": "execute_result"
    },
    {
     "data": {
      "image/png": "[encoded data removed]",
      "text/plain": [
       "<Figure size 432x288 with 2 Axes>"
      ]
     },
     "metadata": {
      "needs_background": "light"
     },
     "output_type": "display_data"
    }
   ],
   "source": [
    "sns.heatmap(df_maxd_pivot,annot=True,fmt='.3f')"
   ]
  },
  {
   "cell_type": "markdown",
   "id": "4ffb0d52",
   "metadata": {},
   "source": [
    "### Tuned Model of Decision Tree"
   ]
  },
  {
   "cell_type": "code",
   "execution_count": 124,
   "id": "aec3dfb3",
   "metadata": {},
   "outputs": [
    {
     "name": "stdout",
     "output_type": "stream",
     "text": [
      "ROC AUC SCORE FOR VAL DATASET :0.8164018796151264\n"
     ]
    }
   ],
   "source": [
    "dt=DecisionTreeClassifier(max_depth=4,min_samples_leaf=401)\n",
    "dt.fit(X_train,y_train)\n",
    "y_pred=dt.predict_proba(X_val)[:,1]\n",
    "roc_auc_score(y_val,y_pred)\n",
    "print(f\"ROC AUC SCORE FOR VAL DATASET :{roc_auc_score(y_val,y_pred)}\")"
   ]
  },
  {
   "cell_type": "markdown",
   "id": "74563a9a",
   "metadata": {},
   "source": [
    "### Random Forest Implementation"
   ]
  },
  {
   "cell_type": "code",
   "execution_count": 125,
   "id": "bd1fc761",
   "metadata": {},
   "outputs": [],
   "source": [
    "from sklearn.ensemble import RandomForestClassifier"
   ]
  },
  {
   "cell_type": "code",
   "execution_count": 126,
   "id": "391b046d",
   "metadata": {},
   "outputs": [],
   "source": [
    "rf=RandomForestClassifier(n_estimators=10,random_state=1)"
   ]
  },
  {
   "cell_type": "code",
   "execution_count": 127,
   "id": "db2bf320",
   "metadata": {},
   "outputs": [
    {
     "data": {
      "text/plain": [
       "RandomForestClassifier(n_estimators=10, random_state=1)"
      ]
     },
     "execution_count": 127,
     "metadata": {},
     "output_type": "execute_result"
    }
   ],
   "source": [
    "rf.fit(X_train,y_train)"
   ]
  },
  {
   "cell_type": "code",
   "execution_count": 128,
   "id": "41bda518",
   "metadata": {},
   "outputs": [
    {
     "data": {
      "text/plain": [
       "array([0. , 0. , 0. , ..., 0.1, 0.1, 0. ])"
      ]
     },
     "execution_count": 128,
     "metadata": {},
     "output_type": "execute_result"
    }
   ],
   "source": [
    "y_pred=rf.predict_proba(X_val)[:,1]\n",
    "y_pred"
   ]
  },
  {
   "cell_type": "code",
   "execution_count": 129,
   "id": "0fdc6a9d",
   "metadata": {},
   "outputs": [
    {
     "data": {
      "text/plain": [
       "0.7211904229134035"
      ]
     },
     "execution_count": 129,
     "metadata": {},
     "output_type": "execute_result"
    }
   ],
   "source": [
    "roc_auc_score(y_val,y_pred)"
   ]
  },
  {
   "cell_type": "markdown",
   "id": "ad0ee1a1",
   "metadata": {},
   "source": [
    "## Hyper Parameter Tuning for RF"
   ]
  },
  {
   "cell_type": "code",
   "execution_count": 130,
   "id": "c1f1f72d",
   "metadata": {},
   "outputs": [
    {
     "data": {
      "text/html": [
       "<div>\n",
       "<style scoped>\n",
       "    .dataframe tbody tr th:only-of-type {\n",
       "        vertical-align: middle;\n",
       "    }\n",
       "\n",
       "    .dataframe tbody tr th {\n",
       "        vertical-align: top;\n",
       "    }\n",
       "\n",
       "    .dataframe thead th {\n",
       "        text-align: right;\n",
       "    }\n",
       "</style>\n",
       "<table border=\"1\" class=\"dataframe\">\n",
       "  <thead>\n",
       "    <tr style=\"text-align: right;\">\n",
       "      <th></th>\n",
       "      <th>estimators</th>\n",
       "      <th>auc_score</th>\n",
       "    </tr>\n",
       "  </thead>\n",
       "  <tbody>\n",
       "    <tr>\n",
       "      <th>20</th>\n",
       "      <td>210</td>\n",
       "      <td>0.775391</td>\n",
       "    </tr>\n",
       "    <tr>\n",
       "      <th>24</th>\n",
       "      <td>250</td>\n",
       "      <td>0.774769</td>\n",
       "    </tr>\n",
       "    <tr>\n",
       "      <th>23</th>\n",
       "      <td>240</td>\n",
       "      <td>0.774769</td>\n",
       "    </tr>\n",
       "    <tr>\n",
       "      <th>25</th>\n",
       "      <td>260</td>\n",
       "      <td>0.774558</td>\n",
       "    </tr>\n",
       "    <tr>\n",
       "      <th>26</th>\n",
       "      <td>270</td>\n",
       "      <td>0.774098</td>\n",
       "    </tr>\n",
       "    <tr>\n",
       "      <th>17</th>\n",
       "      <td>180</td>\n",
       "      <td>0.774048</td>\n",
       "    </tr>\n",
       "    <tr>\n",
       "      <th>22</th>\n",
       "      <td>230</td>\n",
       "      <td>0.773688</td>\n",
       "    </tr>\n",
       "    <tr>\n",
       "      <th>21</th>\n",
       "      <td>220</td>\n",
       "      <td>0.773452</td>\n",
       "    </tr>\n",
       "    <tr>\n",
       "      <th>27</th>\n",
       "      <td>280</td>\n",
       "      <td>0.772880</td>\n",
       "    </tr>\n",
       "    <tr>\n",
       "      <th>18</th>\n",
       "      <td>190</td>\n",
       "      <td>0.771935</td>\n",
       "    </tr>\n",
       "    <tr>\n",
       "      <th>19</th>\n",
       "      <td>200</td>\n",
       "      <td>0.771326</td>\n",
       "    </tr>\n",
       "    <tr>\n",
       "      <th>28</th>\n",
       "      <td>290</td>\n",
       "      <td>0.770953</td>\n",
       "    </tr>\n",
       "    <tr>\n",
       "      <th>29</th>\n",
       "      <td>300</td>\n",
       "      <td>0.770928</td>\n",
       "    </tr>\n",
       "    <tr>\n",
       "      <th>16</th>\n",
       "      <td>170</td>\n",
       "      <td>0.770592</td>\n",
       "    </tr>\n",
       "    <tr>\n",
       "      <th>14</th>\n",
       "      <td>150</td>\n",
       "      <td>0.766701</td>\n",
       "    </tr>\n",
       "    <tr>\n",
       "      <th>13</th>\n",
       "      <td>140</td>\n",
       "      <td>0.766304</td>\n",
       "    </tr>\n",
       "    <tr>\n",
       "      <th>15</th>\n",
       "      <td>160</td>\n",
       "      <td>0.765197</td>\n",
       "    </tr>\n",
       "    <tr>\n",
       "      <th>11</th>\n",
       "      <td>120</td>\n",
       "      <td>0.764799</td>\n",
       "    </tr>\n",
       "    <tr>\n",
       "      <th>12</th>\n",
       "      <td>130</td>\n",
       "      <td>0.763531</td>\n",
       "    </tr>\n",
       "    <tr>\n",
       "      <th>3</th>\n",
       "      <td>40</td>\n",
       "      <td>0.754569</td>\n",
       "    </tr>\n",
       "    <tr>\n",
       "      <th>8</th>\n",
       "      <td>90</td>\n",
       "      <td>0.750168</td>\n",
       "    </tr>\n",
       "    <tr>\n",
       "      <th>10</th>\n",
       "      <td>110</td>\n",
       "      <td>0.748912</td>\n",
       "    </tr>\n",
       "    <tr>\n",
       "      <th>4</th>\n",
       "      <td>50</td>\n",
       "      <td>0.748452</td>\n",
       "    </tr>\n",
       "    <tr>\n",
       "      <th>9</th>\n",
       "      <td>100</td>\n",
       "      <td>0.747358</td>\n",
       "    </tr>\n",
       "    <tr>\n",
       "      <th>7</th>\n",
       "      <td>80</td>\n",
       "      <td>0.747296</td>\n",
       "    </tr>\n",
       "    <tr>\n",
       "      <th>5</th>\n",
       "      <td>60</td>\n",
       "      <td>0.745332</td>\n",
       "    </tr>\n",
       "    <tr>\n",
       "      <th>2</th>\n",
       "      <td>30</td>\n",
       "      <td>0.744710</td>\n",
       "    </tr>\n",
       "    <tr>\n",
       "      <th>6</th>\n",
       "      <td>70</td>\n",
       "      <td>0.744387</td>\n",
       "    </tr>\n",
       "    <tr>\n",
       "      <th>1</th>\n",
       "      <td>20</td>\n",
       "      <td>0.730489</td>\n",
       "    </tr>\n",
       "    <tr>\n",
       "      <th>0</th>\n",
       "      <td>10</td>\n",
       "      <td>0.721190</td>\n",
       "    </tr>\n",
       "  </tbody>\n",
       "</table>\n",
       "</div>"
      ],
      "text/plain": [
       "    estimators  auc_score\n",
       "20         210   0.775391\n",
       "24         250   0.774769\n",
       "23         240   0.774769\n",
       "25         260   0.774558\n",
       "26         270   0.774098\n",
       "17         180   0.774048\n",
       "22         230   0.773688\n",
       "21         220   0.773452\n",
       "27         280   0.772880\n",
       "18         190   0.771935\n",
       "19         200   0.771326\n",
       "28         290   0.770953\n",
       "29         300   0.770928\n",
       "16         170   0.770592\n",
       "14         150   0.766701\n",
       "13         140   0.766304\n",
       "15         160   0.765197\n",
       "11         120   0.764799\n",
       "12         130   0.763531\n",
       "3           40   0.754569\n",
       "8           90   0.750168\n",
       "10         110   0.748912\n",
       "4           50   0.748452\n",
       "9          100   0.747358\n",
       "7           80   0.747296\n",
       "5           60   0.745332\n",
       "2           30   0.744710\n",
       "6           70   0.744387\n",
       "1           20   0.730489\n",
       "0           10   0.721190"
      ]
     },
     "execution_count": 130,
     "metadata": {},
     "output_type": "execute_result"
    }
   ],
   "source": [
    "rf_metrics=[]\n",
    "\n",
    "for i in range(10,301, 10):\n",
    "    rf=RandomForestClassifier(n_estimators=i,random_state=1)\n",
    "    rf.fit(X_train,y_train)\n",
    "    y_pred=rf.predict_proba(X_val)[:,1]\n",
    "    roc=roc_auc_score(y_val,y_pred)\n",
    "    rf_metrics.append((i,roc))\n",
    "columns=['estimators','auc_score']\n",
    "df_rf_metrics=pd.DataFrame(rf_metrics,columns=columns)\n",
    "df_rf_metrics.sort_values('auc_score',ascending=False)\n",
    "\n",
    "    "
   ]
  },
  {
   "cell_type": "code",
   "execution_count": 131,
   "id": "32833a53",
   "metadata": {},
   "outputs": [
    {
     "data": {
      "text/plain": [
       "[<matplotlib.lines.Line2D at 0x7fa50aa5e9a0>]"
      ]
     },
     "execution_count": 131,
     "metadata": {},
     "output_type": "execute_result"
    },
    {
     "data": {
      "image/png": "[encoded data removed]",
      "text/plain": [
       "<Figure size 432x288 with 1 Axes>"
      ]
     },
     "metadata": {
      "needs_background": "light"
     },
     "output_type": "display_data"
    }
   ],
   "source": [
    "plt.plot(df_rf_metrics.estimators,df_rf_metrics.auc_score )"
   ]
  },
  {
   "cell_type": "markdown",
   "id": "97860e76",
   "metadata": {},
   "source": [
    "### Adding Max Depth Hyper Paramter"
   ]
  },
  {
   "cell_type": "code",
   "execution_count": 132,
   "id": "8d6d9ade",
   "metadata": {},
   "outputs": [
    {
     "data": {
      "text/html": [
       "<div>\n",
       "<style scoped>\n",
       "    .dataframe tbody tr th:only-of-type {\n",
       "        vertical-align: middle;\n",
       "    }\n",
       "\n",
       "    .dataframe tbody tr th {\n",
       "        vertical-align: top;\n",
       "    }\n",
       "\n",
       "    .dataframe thead th {\n",
       "        text-align: right;\n",
       "    }\n",
       "</style>\n",
       "<table border=\"1\" class=\"dataframe\">\n",
       "  <thead>\n",
       "    <tr style=\"text-align: right;\">\n",
       "      <th></th>\n",
       "      <th>depth</th>\n",
       "      <th>estimators</th>\n",
       "      <th>auc_score</th>\n",
       "    </tr>\n",
       "  </thead>\n",
       "  <tbody>\n",
       "    <tr>\n",
       "      <th>2</th>\n",
       "      <td>5</td>\n",
       "      <td>30</td>\n",
       "      <td>0.822990</td>\n",
       "    </tr>\n",
       "    <tr>\n",
       "      <th>4</th>\n",
       "      <td>5</td>\n",
       "      <td>50</td>\n",
       "      <td>0.820566</td>\n",
       "    </tr>\n",
       "    <tr>\n",
       "      <th>3</th>\n",
       "      <td>5</td>\n",
       "      <td>40</td>\n",
       "      <td>0.819224</td>\n",
       "    </tr>\n",
       "    <tr>\n",
       "      <th>1</th>\n",
       "      <td>5</td>\n",
       "      <td>20</td>\n",
       "      <td>0.819012</td>\n",
       "    </tr>\n",
       "    <tr>\n",
       "      <th>0</th>\n",
       "      <td>5</td>\n",
       "      <td>10</td>\n",
       "      <td>0.818130</td>\n",
       "    </tr>\n",
       "    <tr>\n",
       "      <th>...</th>\n",
       "      <td>...</td>\n",
       "      <td>...</td>\n",
       "      <td>...</td>\n",
       "    </tr>\n",
       "    <tr>\n",
       "      <th>62</th>\n",
       "      <td>15</td>\n",
       "      <td>30</td>\n",
       "      <td>0.752132</td>\n",
       "    </tr>\n",
       "    <tr>\n",
       "      <th>64</th>\n",
       "      <td>15</td>\n",
       "      <td>50</td>\n",
       "      <td>0.744748</td>\n",
       "    </tr>\n",
       "    <tr>\n",
       "      <th>63</th>\n",
       "      <td>15</td>\n",
       "      <td>40</td>\n",
       "      <td>0.740111</td>\n",
       "    </tr>\n",
       "    <tr>\n",
       "      <th>61</th>\n",
       "      <td>15</td>\n",
       "      <td>20</td>\n",
       "      <td>0.698864</td>\n",
       "    </tr>\n",
       "    <tr>\n",
       "      <th>60</th>\n",
       "      <td>15</td>\n",
       "      <td>10</td>\n",
       "      <td>0.652110</td>\n",
       "    </tr>\n",
       "  </tbody>\n",
       "</table>\n",
       "<p>90 rows × 3 columns</p>\n",
       "</div>"
      ],
      "text/plain": [
       "    depth  estimators  auc_score\n",
       "2       5          30   0.822990\n",
       "4       5          50   0.820566\n",
       "3       5          40   0.819224\n",
       "1       5          20   0.819012\n",
       "0       5          10   0.818130\n",
       "..    ...         ...        ...\n",
       "62     15          30   0.752132\n",
       "64     15          50   0.744748\n",
       "63     15          40   0.740111\n",
       "61     15          20   0.698864\n",
       "60     15          10   0.652110\n",
       "\n",
       "[90 rows x 3 columns]"
      ]
     },
     "execution_count": 132,
     "metadata": {},
     "output_type": "execute_result"
    }
   ],
   "source": [
    "\n",
    "\n",
    "rf_metrics=[]\n",
    "for depth in [5,10,15]:\n",
    "    for i in range(10,301, 10):\n",
    "        rf=RandomForestClassifier(n_estimators=i,random_state=1,max_depth=depth)\n",
    "        rf.fit(X_train,y_train)\n",
    "        y_pred=rf.predict_proba(X_val)[:,1]\n",
    "        roc=roc_auc_score(y_val,y_pred)\n",
    "        rf_metrics.append((depth,i,roc))\n",
    "columns=['depth','estimators','auc_score']\n",
    "df_rf_metrics=pd.DataFrame(rf_metrics,columns=columns)\n",
    "df_rf_metrics.sort_values('auc_score',ascending=False)\n"
   ]
  },
  {
   "cell_type": "code",
   "execution_count": 133,
   "id": "58a6c882",
   "metadata": {},
   "outputs": [
    {
     "data": {
      "text/plain": [
       "<matplotlib.legend.Legend at 0x7fa50a9d1f40>"
      ]
     },
     "execution_count": 133,
     "metadata": {},
     "output_type": "execute_result"
    },
    {
     "data": {
      "image/png": "[encoded data removed]",
      "text/plain": [
       "<Figure size 432x288 with 1 Axes>"
      ]
     },
     "metadata": {
      "needs_background": "light"
     },
     "output_type": "display_data"
    }
   ],
   "source": [
    "for d in [5,10,15]:\n",
    "    df_data=df_rf_metrics[df_rf_metrics.depth==d]\n",
    "    plt.plot(df_data.estimators,df_data.auc_score, label='depth %d' % d)\n",
    "plt.legend()"
   ]
  },
  {
   "cell_type": "code",
   "execution_count": 134,
   "id": "80181ad1",
   "metadata": {},
   "outputs": [],
   "source": [
    "max_depth=5"
   ]
  },
  {
   "cell_type": "code",
   "execution_count": 135,
   "id": "63025a97",
   "metadata": {},
   "outputs": [
    {
     "data": {
      "text/html": [
       "<div>\n",
       "<style scoped>\n",
       "    .dataframe tbody tr th:only-of-type {\n",
       "        vertical-align: middle;\n",
       "    }\n",
       "\n",
       "    .dataframe tbody tr th {\n",
       "        vertical-align: top;\n",
       "    }\n",
       "\n",
       "    .dataframe thead th {\n",
       "        text-align: right;\n",
       "    }\n",
       "</style>\n",
       "<table border=\"1\" class=\"dataframe\">\n",
       "  <thead>\n",
       "    <tr style=\"text-align: right;\">\n",
       "      <th></th>\n",
       "      <th>min_samples</th>\n",
       "      <th>depth</th>\n",
       "      <th>estimators</th>\n",
       "      <th>auc_score</th>\n",
       "    </tr>\n",
       "  </thead>\n",
       "  <tbody>\n",
       "    <tr>\n",
       "      <th>101</th>\n",
       "      <td>31</td>\n",
       "      <td>5</td>\n",
       "      <td>120</td>\n",
       "      <td>0.824271</td>\n",
       "    </tr>\n",
       "    <tr>\n",
       "      <th>102</th>\n",
       "      <td>31</td>\n",
       "      <td>5</td>\n",
       "      <td>130</td>\n",
       "      <td>0.824221</td>\n",
       "    </tr>\n",
       "    <tr>\n",
       "      <th>103</th>\n",
       "      <td>31</td>\n",
       "      <td>5</td>\n",
       "      <td>140</td>\n",
       "      <td>0.824122</td>\n",
       "    </tr>\n",
       "    <tr>\n",
       "      <th>100</th>\n",
       "      <td>31</td>\n",
       "      <td>5</td>\n",
       "      <td>110</td>\n",
       "      <td>0.823823</td>\n",
       "    </tr>\n",
       "    <tr>\n",
       "      <th>104</th>\n",
       "      <td>31</td>\n",
       "      <td>5</td>\n",
       "      <td>150</td>\n",
       "      <td>0.823127</td>\n",
       "    </tr>\n",
       "    <tr>\n",
       "      <th>...</th>\n",
       "      <td>...</td>\n",
       "      <td>...</td>\n",
       "      <td>...</td>\n",
       "      <td>...</td>\n",
       "    </tr>\n",
       "    <tr>\n",
       "      <th>0</th>\n",
       "      <td>1</td>\n",
       "      <td>5</td>\n",
       "      <td>10</td>\n",
       "      <td>0.807277</td>\n",
       "    </tr>\n",
       "    <tr>\n",
       "      <th>180</th>\n",
       "      <td>61</td>\n",
       "      <td>5</td>\n",
       "      <td>10</td>\n",
       "      <td>0.805661</td>\n",
       "    </tr>\n",
       "    <tr>\n",
       "      <th>210</th>\n",
       "      <td>71</td>\n",
       "      <td>5</td>\n",
       "      <td>10</td>\n",
       "      <td>0.804356</td>\n",
       "    </tr>\n",
       "    <tr>\n",
       "      <th>30</th>\n",
       "      <td>11</td>\n",
       "      <td>5</td>\n",
       "      <td>10</td>\n",
       "      <td>0.803076</td>\n",
       "    </tr>\n",
       "    <tr>\n",
       "      <th>240</th>\n",
       "      <td>81</td>\n",
       "      <td>5</td>\n",
       "      <td>10</td>\n",
       "      <td>0.799197</td>\n",
       "    </tr>\n",
       "  </tbody>\n",
       "</table>\n",
       "<p>300 rows × 4 columns</p>\n",
       "</div>"
      ],
      "text/plain": [
       "     min_samples  depth  estimators  auc_score\n",
       "101           31      5         120   0.824271\n",
       "102           31      5         130   0.824221\n",
       "103           31      5         140   0.824122\n",
       "100           31      5         110   0.823823\n",
       "104           31      5         150   0.823127\n",
       "..           ...    ...         ...        ...\n",
       "0              1      5          10   0.807277\n",
       "180           61      5          10   0.805661\n",
       "210           71      5          10   0.804356\n",
       "30            11      5          10   0.803076\n",
       "240           81      5          10   0.799197\n",
       "\n",
       "[300 rows x 4 columns]"
      ]
     },
     "execution_count": 135,
     "metadata": {},
     "output_type": "execute_result"
    }
   ],
   "source": [
    "rf_metrics=[]\n",
    "for k in range(1,100,10):\n",
    "    for i in range(10,301, 10):\n",
    "        rf=RandomForestClassifier(n_estimators=i,random_state=1,\n",
    "                                  max_depth=max_depth,\n",
    "                                  n_jobs=2,\n",
    "                                  min_samples_leaf=k,\n",
    "                                  max_features=9\n",
    "                                 )\n",
    "        rf.fit(X_train,y_train)\n",
    "        y_pred=rf.predict_proba(X_val)[:,1]\n",
    "        roc=roc_auc_score(y_val,y_pred)\n",
    "        rf_metrics.append((k,max_depth,i,roc))\n",
    "    columns=['min_samples','depth','estimators','auc_score']\n",
    "df_rf_metrics=pd.DataFrame(rf_metrics,columns=columns)\n",
    "df_rf_metrics.sort_values('auc_score',ascending=False)\n"
   ]
  },
  {
   "cell_type": "code",
   "execution_count": 136,
   "id": "b6b10b6d",
   "metadata": {},
   "outputs": [],
   "source": [
    "max_depth=5\n",
    "min_samples_leaf=21 \n",
    "estimators=210"
   ]
  },
  {
   "cell_type": "code",
   "execution_count": 137,
   "id": "eaf1d24e",
   "metadata": {},
   "outputs": [
    {
     "data": {
      "text/html": [
       "<div>\n",
       "<style scoped>\n",
       "    .dataframe tbody tr th:only-of-type {\n",
       "        vertical-align: middle;\n",
       "    }\n",
       "\n",
       "    .dataframe tbody tr th {\n",
       "        vertical-align: top;\n",
       "    }\n",
       "\n",
       "    .dataframe thead th {\n",
       "        text-align: right;\n",
       "    }\n",
       "</style>\n",
       "<table border=\"1\" class=\"dataframe\">\n",
       "  <thead>\n",
       "    <tr style=\"text-align: right;\">\n",
       "      <th></th>\n",
       "      <th>min_samples</th>\n",
       "      <th>depth</th>\n",
       "      <th>estimators</th>\n",
       "      <th>features</th>\n",
       "      <th>auc_score</th>\n",
       "    </tr>\n",
       "  </thead>\n",
       "  <tbody>\n",
       "    <tr>\n",
       "      <th>9</th>\n",
       "      <td>21</td>\n",
       "      <td>5</td>\n",
       "      <td>210</td>\n",
       "      <td>10</td>\n",
       "      <td>0.824445</td>\n",
       "    </tr>\n",
       "    <tr>\n",
       "      <th>10</th>\n",
       "      <td>21</td>\n",
       "      <td>5</td>\n",
       "      <td>210</td>\n",
       "      <td>11</td>\n",
       "      <td>0.823699</td>\n",
       "    </tr>\n",
       "    <tr>\n",
       "      <th>7</th>\n",
       "      <td>21</td>\n",
       "      <td>5</td>\n",
       "      <td>210</td>\n",
       "      <td>8</td>\n",
       "      <td>0.822232</td>\n",
       "    </tr>\n",
       "    <tr>\n",
       "      <th>12</th>\n",
       "      <td>21</td>\n",
       "      <td>5</td>\n",
       "      <td>210</td>\n",
       "      <td>13</td>\n",
       "      <td>0.820989</td>\n",
       "    </tr>\n",
       "    <tr>\n",
       "      <th>11</th>\n",
       "      <td>21</td>\n",
       "      <td>5</td>\n",
       "      <td>210</td>\n",
       "      <td>12</td>\n",
       "      <td>0.820169</td>\n",
       "    </tr>\n",
       "    <tr>\n",
       "      <th>6</th>\n",
       "      <td>21</td>\n",
       "      <td>5</td>\n",
       "      <td>210</td>\n",
       "      <td>7</td>\n",
       "      <td>0.819945</td>\n",
       "    </tr>\n",
       "    <tr>\n",
       "      <th>8</th>\n",
       "      <td>21</td>\n",
       "      <td>5</td>\n",
       "      <td>210</td>\n",
       "      <td>9</td>\n",
       "      <td>0.819099</td>\n",
       "    </tr>\n",
       "    <tr>\n",
       "      <th>13</th>\n",
       "      <td>21</td>\n",
       "      <td>5</td>\n",
       "      <td>210</td>\n",
       "      <td>14</td>\n",
       "      <td>0.817981</td>\n",
       "    </tr>\n",
       "    <tr>\n",
       "      <th>5</th>\n",
       "      <td>21</td>\n",
       "      <td>5</td>\n",
       "      <td>210</td>\n",
       "      <td>6</td>\n",
       "      <td>0.815345</td>\n",
       "    </tr>\n",
       "    <tr>\n",
       "      <th>4</th>\n",
       "      <td>21</td>\n",
       "      <td>5</td>\n",
       "      <td>210</td>\n",
       "      <td>5</td>\n",
       "      <td>0.814898</td>\n",
       "    </tr>\n",
       "    <tr>\n",
       "      <th>3</th>\n",
       "      <td>21</td>\n",
       "      <td>5</td>\n",
       "      <td>210</td>\n",
       "      <td>4</td>\n",
       "      <td>0.809055</td>\n",
       "    </tr>\n",
       "    <tr>\n",
       "      <th>2</th>\n",
       "      <td>21</td>\n",
       "      <td>5</td>\n",
       "      <td>210</td>\n",
       "      <td>3</td>\n",
       "      <td>0.808409</td>\n",
       "    </tr>\n",
       "    <tr>\n",
       "      <th>1</th>\n",
       "      <td>21</td>\n",
       "      <td>5</td>\n",
       "      <td>210</td>\n",
       "      <td>2</td>\n",
       "      <td>0.788394</td>\n",
       "    </tr>\n",
       "    <tr>\n",
       "      <th>0</th>\n",
       "      <td>21</td>\n",
       "      <td>5</td>\n",
       "      <td>210</td>\n",
       "      <td>1</td>\n",
       "      <td>0.768802</td>\n",
       "    </tr>\n",
       "  </tbody>\n",
       "</table>\n",
       "</div>"
      ],
      "text/plain": [
       "    min_samples  depth  estimators  features  auc_score\n",
       "9            21      5         210        10   0.824445\n",
       "10           21      5         210        11   0.823699\n",
       "7            21      5         210         8   0.822232\n",
       "12           21      5         210        13   0.820989\n",
       "11           21      5         210        12   0.820169\n",
       "6            21      5         210         7   0.819945\n",
       "8            21      5         210         9   0.819099\n",
       "13           21      5         210        14   0.817981\n",
       "5            21      5         210         6   0.815345\n",
       "4            21      5         210         5   0.814898\n",
       "3            21      5         210         4   0.809055\n",
       "2            21      5         210         3   0.808409\n",
       "1            21      5         210         2   0.788394\n",
       "0            21      5         210         1   0.768802"
      ]
     },
     "execution_count": 137,
     "metadata": {},
     "output_type": "execute_result"
    }
   ],
   "source": [
    "rf_metrics=[]\n",
    "for i in range(1, 15,1):\n",
    "    rf=RandomForestClassifier(n_estimators=estimators,random_state=1,\n",
    "        max_depth=max_depth,\n",
    "        n_jobs=2,\n",
    "        min_samples_leaf=min_samples_leaf,\n",
    "        max_features=i\n",
    "        )\n",
    "    rf.fit(X_train,y_train)\n",
    "    y_pred=rf.predict_proba(X_val)[:,1]\n",
    "    roc=roc_auc_score(y_val,y_pred)\n",
    "    rf_metrics.append((min_samples_leaf,max_depth,estimators,i,roc))\n",
    "columns=['min_samples','depth','estimators','features','auc_score']\n",
    "df_rf_metrics=pd.DataFrame(rf_metrics,columns=columns)\n",
    "df_rf_metrics.sort_values('auc_score',ascending=False)"
   ]
  },
  {
   "cell_type": "code",
   "execution_count": 138,
   "id": "59ec07bf",
   "metadata": {},
   "outputs": [],
   "source": [
    "import pickle"
   ]
  },
  {
   "cell_type": "code",
   "execution_count": 139,
   "id": "2165fa6f",
   "metadata": {},
   "outputs": [],
   "source": [
    "max_depth=5\n",
    "min_samples_leaf=21 \n",
    "estimators=210\n",
    "max_features=9"
   ]
  },
  {
   "cell_type": "markdown",
   "id": "c037c53b",
   "metadata": {},
   "source": [
    "### Hyper Tuned Model for RandomForest"
   ]
  },
  {
   "cell_type": "code",
   "execution_count": 140,
   "id": "ff0b013f",
   "metadata": {},
   "outputs": [],
   "source": [
    "def train(df_train,y_train):\n",
    "    train_dicts=df_train[numerical+categorical].to_dict(orient='records')\n",
    "    dv=DictVectorizer(sparse=False)\n",
    "    X_train=dv.fit_transform(train_dicts)    \n",
    "    model_rf=RandomForestClassifier(n_estimators=estimators,random_state=1,\n",
    "        max_depth=max_depth,\n",
    "        n_jobs=2,\n",
    "        min_samples_leaf=min_samples_leaf,\n",
    "        max_features=max_features\n",
    "        )\n",
    "    model_rf.fit(X_train,y_train)\n",
    "    return model_rf,dv\n",
    "\n",
    "def predict(df,dv,model):\n",
    "    dicts=df[numerical+categorical].to_dict(orient='records')\n",
    "    X=dv.transform(dicts)\n",
    "    y_pred=model.predict_proba(X)[:,1]\n",
    "    #y_pred=model.predict(X)\n",
    "    \n",
    "    return y_pred"
   ]
  },
  {
   "cell_type": "code",
   "execution_count": 141,
   "id": "f9e63859",
   "metadata": {},
   "outputs": [
    {
     "data": {
      "text/plain": [
       "0.8190994753984236"
      ]
     },
     "execution_count": 141,
     "metadata": {},
     "output_type": "execute_result"
    }
   ],
   "source": [
    "model_rf,dv=train(df_train,y_train)\n",
    "y_pred=predict(df_val,dv,model_rf)\n",
    "roc_auc_score(y_val,y_pred)"
   ]
  },
  {
   "cell_type": "code",
   "execution_count": 142,
   "id": "b61c3f5e",
   "metadata": {},
   "outputs": [
    {
     "data": {
      "text/plain": [
       "'model_rf.bin'"
      ]
     },
     "execution_count": 142,
     "metadata": {},
     "output_type": "execute_result"
    }
   ],
   "source": [
    "ouput_file=f'model_rf.bin'\n",
    "ouput_file"
   ]
  },
  {
   "cell_type": "code",
   "execution_count": 143,
   "id": "b7a376cd",
   "metadata": {},
   "outputs": [],
   "source": [
    "with open(ouput_file,'wb') as f_out:\n",
    "    pickle.dump((dv,model_rf),f_out)"
   ]
  },
  {
   "cell_type": "code",
   "execution_count": 144,
   "id": "9f588222",
   "metadata": {},
   "outputs": [],
   "source": [
    "input_file='model_rf.bin'\n",
    "\n",
    "with open (input_file,'rb') as f_in:\n",
    "    dv,model=pickle.load(f_in)"
   ]
  },
  {
   "cell_type": "code",
   "execution_count": 145,
   "id": "7e58d44b",
   "metadata": {},
   "outputs": [
    {
     "data": {
      "text/plain": [
       "(DictVectorizer(sparse=False),\n",
       " RandomForestClassifier(max_depth=5, max_features=9, min_samples_leaf=21,\n",
       "                        n_estimators=210, n_jobs=2, random_state=1))"
      ]
     },
     "execution_count": 145,
     "metadata": {},
     "output_type": "execute_result"
    }
   ],
   "source": [
    "dv,model"
   ]
  },
  {
   "cell_type": "code",
   "execution_count": 172,
   "id": "73be6727",
   "metadata": {},
   "outputs": [
    {
     "data": {
      "text/plain": [
       "array([[0.7680874, 0.2319126]])"
      ]
     },
     "execution_count": 172,
     "metadata": {},
     "output_type": "execute_result"
    }
   ],
   "source": [
    "patient={\"gender\": \"female\",\n",
    "  \"ever_married\": \"yes\",\n",
    "  \"work_type\": \"self-employed\",\n",
    "  \"residence_type\": \"urban\",\n",
    "  \"smoking_status\": \"smokes\",\n",
    "  \"age\": 76.0,\n",
    "  \"hypertension\": 1,\n",
    "  \"heart_disease\": 1,\n",
    "  \"avg_glucose_level\": 199.86,\n",
    "  \"bmi\": 28.9456}\n",
    "\n",
    "X=dv.transform(patient)\n",
    "model.predict_proba(X)"
   ]
  },
  {
   "cell_type": "code",
   "execution_count": 147,
   "id": "8dc7e907",
   "metadata": {},
   "outputs": [
    {
     "data": {
      "text/plain": [
       "array([0, 1, 0, ..., 0, 0, 0])"
      ]
     },
     "execution_count": 147,
     "metadata": {},
     "output_type": "execute_result"
    }
   ],
   "source": [
    "y_val"
   ]
  },
  {
   "cell_type": "code",
   "execution_count": 148,
   "id": "a69e35de",
   "metadata": {},
   "outputs": [
    {
     "data": {
      "text/plain": [
       "array([0.0021396 , 0.11749098, 0.02856379, ..., 0.06136582, 0.01585977,\n",
       "       0.00394285])"
      ]
     },
     "execution_count": 148,
     "metadata": {},
     "output_type": "execute_result"
    }
   ],
   "source": [
    "y_pred"
   ]
  },
  {
   "cell_type": "code",
   "execution_count": 149,
   "id": "3cfc0e46",
   "metadata": {},
   "outputs": [],
   "source": [
    "fpr, tpr, thresholds = roc_curve(y_val, y_pred)"
   ]
  },
  {
   "cell_type": "code",
   "execution_count": 150,
   "id": "bd362d62",
   "metadata": {},
   "outputs": [
    {
     "name": "stdout",
     "output_type": "stream",
     "text": [
      "Best Threshold=0.081383, G-Mean=0.747\n"
     ]
    },
    {
     "data": {
      "text/plain": [
       "<matplotlib.collections.PathCollection at 0x7fa50a91f460>"
      ]
     },
     "execution_count": 150,
     "metadata": {},
     "output_type": "execute_result"
    },
    {
     "data": {
      "image/png": "[encoded data removed]",
      "text/plain": [
       "<Figure size 432x288 with 1 Axes>"
      ]
     },
     "metadata": {
      "needs_background": "light"
     },
     "output_type": "display_data"
    }
   ],
   "source": [
    "fpr, tpr, thresholds = roc_curve(y_val, y_pred)\n",
    "from numpy import sqrt\n",
    "from numpy import argmax\n",
    "gmeans = sqrt(tpr * (1-fpr))\n",
    "ix = argmax(gmeans)\n",
    "print('Best Threshold=%f, G-Mean=%.3f' % (thresholds[ix], gmeans[ix]))\n",
    "plt.plot(fpr, tpr, marker='.', label='Random Forest')\n",
    "plt.xlabel('False Positive Rate')\n",
    "plt.ylabel('True Positive Rate')\n",
    "plt.legend()\n",
    "plt.scatter(fpr[ix], tpr[ix], marker='o', color='black', label='Best')"
   ]
  },
  {
   "cell_type": "code",
   "execution_count": 163,
   "id": "b9c1613e",
   "metadata": {},
   "outputs": [
    {
     "data": {
      "text/plain": [
       "array([False,  True, False, ..., False, False, False])"
      ]
     },
     "execution_count": 163,
     "metadata": {},
     "output_type": "execute_result"
    }
   ],
   "source": [
    "# indices = np.where((y_pred>=0.087))\n",
    "# indices\n",
    "\n",
    "y_pred"
   ]
  },
  {
   "cell_type": "code",
   "execution_count": 153,
   "id": "85a316c2",
   "metadata": {},
   "outputs": [
    {
     "data": {
      "text/plain": [
       "array([0, 1, 0, ..., 0, 0, 0])"
      ]
     },
     "execution_count": 153,
     "metadata": {},
     "output_type": "execute_result"
    }
   ],
   "source": [
    "y_val"
   ]
  },
  {
   "cell_type": "code",
   "execution_count": 154,
   "id": "5e87835e",
   "metadata": {},
   "outputs": [
    {
     "data": {
      "text/html": [
       "<div>\n",
       "<style scoped>\n",
       "    .dataframe tbody tr th:only-of-type {\n",
       "        vertical-align: middle;\n",
       "    }\n",
       "\n",
       "    .dataframe tbody tr th {\n",
       "        vertical-align: top;\n",
       "    }\n",
       "\n",
       "    .dataframe thead th {\n",
       "        text-align: right;\n",
       "    }\n",
       "</style>\n",
       "<table border=\"1\" class=\"dataframe\">\n",
       "  <thead>\n",
       "    <tr style=\"text-align: right;\">\n",
       "      <th></th>\n",
       "      <th>id</th>\n",
       "      <th>gender</th>\n",
       "      <th>age</th>\n",
       "      <th>hypertension</th>\n",
       "      <th>heart_disease</th>\n",
       "      <th>ever_married</th>\n",
       "      <th>work_type</th>\n",
       "      <th>residence_type</th>\n",
       "      <th>avg_glucose_level</th>\n",
       "      <th>bmi</th>\n",
       "      <th>smoking_status</th>\n",
       "      <th>stroke</th>\n",
       "    </tr>\n",
       "  </thead>\n",
       "  <tbody>\n",
       "    <tr>\n",
       "      <th>103</th>\n",
       "      <td>4712</td>\n",
       "      <td>female</td>\n",
       "      <td>81.0</td>\n",
       "      <td>0</td>\n",
       "      <td>1</td>\n",
       "      <td>yes</td>\n",
       "      <td>self-employed</td>\n",
       "      <td>rural</td>\n",
       "      <td>78.7</td>\n",
       "      <td>19.4</td>\n",
       "      <td>unknown</td>\n",
       "      <td>1</td>\n",
       "    </tr>\n",
       "  </tbody>\n",
       "</table>\n",
       "</div>"
      ],
      "text/plain": [
       "       id  gender   age  hypertension  heart_disease ever_married  \\\n",
       "103  4712  female  81.0             0              1          yes   \n",
       "\n",
       "         work_type residence_type  avg_glucose_level   bmi smoking_status  \\\n",
       "103  self-employed          rural               78.7  19.4        unknown   \n",
       "\n",
       "     stroke  \n",
       "103       1  "
      ]
     },
     "execution_count": 154,
     "metadata": {},
     "output_type": "execute_result"
    }
   ],
   "source": [
    "df[df['id']==4712]"
   ]
  },
  {
   "cell_type": "code",
   "execution_count": 155,
   "id": "636a72f7",
   "metadata": {},
   "outputs": [
    {
     "data": {
      "text/plain": [
       "0.03635748195213598"
      ]
     },
     "execution_count": 155,
     "metadata": {},
     "output_type": "execute_result"
    }
   ],
   "source": [
    "mse=mean_squared_error(y_val, y_pred) \n",
    "mse"
   ]
  },
  {
   "cell_type": "code",
   "execution_count": 168,
   "id": "6c5de62d",
   "metadata": {},
   "outputs": [
    {
     "data": {
      "text/html": [
       "<div>\n",
       "<style scoped>\n",
       "    .dataframe tbody tr th:only-of-type {\n",
       "        vertical-align: middle;\n",
       "    }\n",
       "\n",
       "    .dataframe tbody tr th {\n",
       "        vertical-align: top;\n",
       "    }\n",
       "\n",
       "    .dataframe thead th {\n",
       "        text-align: right;\n",
       "    }\n",
       "</style>\n",
       "<table border=\"1\" class=\"dataframe\">\n",
       "  <thead>\n",
       "    <tr style=\"text-align: right;\">\n",
       "      <th></th>\n",
       "      <th>features</th>\n",
       "      <th>importances</th>\n",
       "    </tr>\n",
       "  </thead>\n",
       "  <tbody>\n",
       "    <tr>\n",
       "      <th>0</th>\n",
       "      <td>age</td>\n",
       "      <td>0.518711</td>\n",
       "    </tr>\n",
       "    <tr>\n",
       "      <th>1</th>\n",
       "      <td>avg_glucose_level</td>\n",
       "      <td>0.202577</td>\n",
       "    </tr>\n",
       "    <tr>\n",
       "      <th>2</th>\n",
       "      <td>bmi</td>\n",
       "      <td>0.106374</td>\n",
       "    </tr>\n",
       "    <tr>\n",
       "      <th>8</th>\n",
       "      <td>hypertension</td>\n",
       "      <td>0.031942</td>\n",
       "    </tr>\n",
       "    <tr>\n",
       "      <th>7</th>\n",
       "      <td>heart_disease</td>\n",
       "      <td>0.022469</td>\n",
       "    </tr>\n",
       "  </tbody>\n",
       "</table>\n",
       "</div>"
      ],
      "text/plain": [
       "            features  importances\n",
       "0                age     0.518711\n",
       "1  avg_glucose_level     0.202577\n",
       "2                bmi     0.106374\n",
       "8       hypertension     0.031942\n",
       "7      heart_disease     0.022469"
      ]
     },
     "execution_count": 168,
     "metadata": {},
     "output_type": "execute_result"
    }
   ],
   "source": [
    "importances=list(rf.feature_importances_)\n",
    "features=list(dv.get_feature_names())\n",
    "df_imp_features=pd.DataFrame({ 'features': features,'importances': importances})\n",
    "df_imp_features.sort_values('importances', ascending=False).iloc[0:5]"
   ]
  },
  {
   "cell_type": "markdown",
   "id": "8ea03e3b",
   "metadata": {},
   "source": [
    "### Testing a record from Test Validation"
   ]
  },
  {
   "cell_type": "code",
   "execution_count": 178,
   "id": "3c4d694f",
   "metadata": {},
   "outputs": [
    {
     "data": {
      "text/plain": [
       "array([[0.87744824, 0.12255176]])"
      ]
     },
     "execution_count": 178,
     "metadata": {},
     "output_type": "execute_result"
    }
   ],
   "source": [
    "patient={\"gender\": \"female\",\n",
    "  \"ever_married\": \"yes\",\n",
    "  \"work_type\": \"self-employed\",\n",
    "  \"residence_type\": \"urban\",\n",
    "  \"smoking_status\": \"unknown\",\n",
    "  \"age\": 97,\n",
    "  \"hypertension\": 0,\n",
    "  \"heart_disease\": 1,\n",
    "  \"avg_glucose_level\": 78.7,\n",
    "  \"bmi\": 19.4}\n",
    "\n",
    "X=dv.transform(patient)\n",
    "model.predict_proba(X)"
   ]
  }
 ],
 "metadata": {
  "kernelspec": {
   "display_name": "Python 3 (ipykernel)",
   "language": "python",
   "name": "python3"
  },
  "language_info": {
   "codemirror_mode": {
    "name": "ipython",
    "version": 3
   },
   "file_extension": ".py",
   "mimetype": "text/x-python",
   "name": "python",
   "nbconvert_exporter": "python",
   "pygments_lexer": "ipython3",
   "version": "3.9.7"
  }
 },
 "nbformat": 4,
 "nbformat_minor": 5
}
