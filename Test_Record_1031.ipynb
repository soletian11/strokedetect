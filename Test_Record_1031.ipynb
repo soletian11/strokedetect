{
 "cells": [
  {
   "cell_type": "code",
   "execution_count": 6,
   "id": "943f499e",
   "metadata": {},
   "outputs": [],
   "source": [
    "patient={\"gender\": \"female\",\n",
    "  \"ever_married\": \"yes\",\n",
    "  \"work_type\": \"self-employed\",\n",
    "  \"residence_type\": \"rural\",\n",
    "  \"smoking_status\": \"nosmoked\",\n",
    "  \"id\": 57043,\n",
    "  \"age\": 10.0,\n",
    "  \"hypertension\": 0,\n",
    "  \"heart_disease\": 0,\n",
    "  \"avg_glucose_level\": 1.73,\n",
    "  \"bmi\": 35.0}"
   ]
  },
  {
   "cell_type": "code",
   "execution_count": 7,
   "id": "1167d486",
   "metadata": {},
   "outputs": [],
   "source": [
    "import requests"
   ]
  },
  {
   "cell_type": "code",
   "execution_count": 8,
   "id": "3d064e24",
   "metadata": {},
   "outputs": [],
   "source": [
    "url='http://localhost:9696/predict'"
   ]
  },
  {
   "cell_type": "code",
   "execution_count": 9,
   "id": "e0c57719",
   "metadata": {},
   "outputs": [
    {
     "data": {
      "text/plain": [
       "{'stroke_predicttion': 0.001724563354556455}"
      ]
     },
     "execution_count": 9,
     "metadata": {},
     "output_type": "execute_result"
    }
   ],
   "source": [
    "requests.post(url,json=patient).json()"
   ]
  }
 ],
 "metadata": {
  "kernelspec": {
   "display_name": "Python 3 (ipykernel)",
   "language": "python",
   "name": "python3"
  },
  "language_info": {
   "codemirror_mode": {
    "name": "ipython",
    "version": 3
   },
   "file_extension": ".py",
   "mimetype": "text/x-python",
   "name": "python",
   "nbconvert_exporter": "python",
   "pygments_lexer": "ipython3",
   "version": "3.9.7"
  }
 },
 "nbformat": 4,
 "nbformat_minor": 5
}
