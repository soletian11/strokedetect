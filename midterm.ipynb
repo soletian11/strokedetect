{
 "cells": [
  {
   "cell_type": "code",
   "execution_count": 2,
   "id": "ac377333",
   "metadata": {},
   "outputs": [],
   "source": [
    "import pandas as pd\n",
    "import numpy as np\n",
    "from sklearn.model_selection import train_test_split\n",
    "from sklearn.feature_extraction import DictVectorizer\n",
    "from sklearn.linear_model import LogisticRegression\n",
    "from sklearn.metrics import accuracy_score,roc_auc_score,auc\n",
    "from sklearn.model_selection import KFold\n",
    "import matplotlib.pyplot as plt\n",
    "import seaborn as sns\n"
   ]
  },
  {
   "cell_type": "code",
   "execution_count": 3,
   "id": "6233f73a",
   "metadata": {},
   "outputs": [],
   "source": [
    "data='https://raw.githubusercontent.com/soletian11/strokedetect/main/healthcare-dataset-stroke-data.csv'"
   ]
  },
  {
   "cell_type": "code",
   "execution_count": 4,
   "id": "2b7b84d2",
   "metadata": {},
   "outputs": [],
   "source": [
    "df=pd.read_csv(data)"
   ]
  },
  {
   "cell_type": "code",
   "execution_count": 5,
   "id": "e42d9fb4",
   "metadata": {},
   "outputs": [
    {
     "data": {
      "text/plain": [
       "id                     int64\n",
       "gender                object\n",
       "age                  float64\n",
       "hypertension           int64\n",
       "heart_disease          int64\n",
       "ever_married          object\n",
       "work_type             object\n",
       "Residence_type        object\n",
       "avg_glucose_level    float64\n",
       "bmi                  float64\n",
       "smoking_status        object\n",
       "stroke                 int64\n",
       "dtype: object"
      ]
     },
     "execution_count": 5,
     "metadata": {},
     "output_type": "execute_result"
    }
   ],
   "source": [
    "df.dtypes"
   ]
  },
  {
   "cell_type": "code",
   "execution_count": 6,
   "id": "b9332603",
   "metadata": {},
   "outputs": [
    {
     "data": {
      "text/plain": [
       "5110"
      ]
     },
     "execution_count": 6,
     "metadata": {},
     "output_type": "execute_result"
    }
   ],
   "source": [
    "len(df)"
   ]
  },
  {
   "cell_type": "code",
   "execution_count": 7,
   "id": "1c5fd17e",
   "metadata": {},
   "outputs": [],
   "source": [
    "#Removing Id which is having unique column values and doesn't impact outcome.So removing from dataset\n",
    "# df=df.drop('id',axis=1)"
   ]
  },
  {
   "cell_type": "markdown",
   "id": "59d0abcf",
   "metadata": {},
   "source": [
    "## Standardization \n",
    "    1.Having all lower case and underscores for col name having ''\n",
    "    2.Having data in all lower case and underscores having ''"
   ]
  },
  {
   "cell_type": "code",
   "execution_count": 8,
   "id": "1767f7bc",
   "metadata": {},
   "outputs": [],
   "source": [
    "#Cleaning metadata like column names having every column lower case \n",
    "df.columns=df.columns.str.lower()"
   ]
  },
  {
   "cell_type": "code",
   "execution_count": 9,
   "id": "b9e52334",
   "metadata": {},
   "outputs": [],
   "source": [
    "# for col in df.columns:\n",
    "#     print()\n",
    "#     print(\"Column Name : \",col)\n",
    "#     print(df[col].value_counts())\n",
    "#     print()"
   ]
  },
  {
   "cell_type": "code",
   "execution_count": 10,
   "id": "07863259",
   "metadata": {},
   "outputs": [],
   "source": [
    "#Categorcial Columns and Numerical Cols\n",
    "categorical=list(df.dtypes[df.dtypes==object].index)\n",
    "numerical=[ 'id','age',  'hypertension',  'heart_disease',  'avg_glucose_level',  'bmi']\n"
   ]
  },
  {
   "cell_type": "code",
   "execution_count": 11,
   "id": "f675e0a9",
   "metadata": {},
   "outputs": [],
   "source": [
    "## Cleaning up data and makes values lower case in of categorical\n",
    "for col in categorical:\n",
    "    df[col]=df[col].str.lower().str.replace(' ','_')\n",
    "    "
   ]
  },
  {
   "cell_type": "code",
   "execution_count": 12,
   "id": "de7f2a72",
   "metadata": {},
   "outputs": [
    {
     "data": {
      "text/plain": [
       "(['id', 'age', 'hypertension', 'heart_disease', 'avg_glucose_level', 'bmi'],\n",
       " ['gender', 'ever_married', 'work_type', 'residence_type', 'smoking_status'])"
      ]
     },
     "execution_count": 12,
     "metadata": {},
     "output_type": "execute_result"
    }
   ],
   "source": [
    "numerical, categorical"
   ]
  },
  {
   "cell_type": "code",
   "execution_count": 13,
   "id": "55ed9f2a",
   "metadata": {},
   "outputs": [],
   "source": [
    "# ##Adding rules on numerical col's\n",
    "# ##Age :rounding  because it has decimals values like 0.8 and added new col age_modified\n",
    "# df['age_modified']=df['age'].round()\n",
    "# df[df['age']<10]\n",
    "# ####\n",
    "\n",
    "# ##bmi :setting 0 for NAN\n",
    "# df['bmi']=df['bmi'].fillna(0)\n",
    "df['bmi']=df['bmi'].fillna(28.89)\n",
    "\n",
    "# df[df.bmi.isna()]\n",
    "\n",
    "# df.describe()\n"
   ]
  },
  {
   "cell_type": "code",
   "execution_count": 14,
   "id": "1e4ac7e5",
   "metadata": {},
   "outputs": [
    {
     "data": {
      "text/plain": [
       "0    4861\n",
       "1     249\n",
       "Name: stroke, dtype: int64"
      ]
     },
     "execution_count": 14,
     "metadata": {},
     "output_type": "execute_result"
    }
   ],
   "source": [
    "df.stroke.value_counts()"
   ]
  },
  {
   "cell_type": "code",
   "execution_count": 15,
   "id": "1ee5f4a8",
   "metadata": {},
   "outputs": [
    {
     "data": {
      "text/plain": [
       "female    2994\n",
       "male      2115\n",
       "other        1\n",
       "Name: gender, dtype: int64"
      ]
     },
     "execution_count": 15,
     "metadata": {},
     "output_type": "execute_result"
    }
   ],
   "source": [
    "df.gender.value_counts()"
   ]
  },
  {
   "cell_type": "code",
   "execution_count": 16,
   "id": "4411ab6c",
   "metadata": {},
   "outputs": [],
   "source": [
    "df_full_train, df_test=train_test_split(df,test_size=0.2,random_state=42)"
   ]
  },
  {
   "cell_type": "code",
   "execution_count": 17,
   "id": "f10c8657",
   "metadata": {},
   "outputs": [
    {
     "data": {
      "text/plain": [
       "0    960\n",
       "1     62\n",
       "Name: stroke, dtype: int64"
      ]
     },
     "execution_count": 17,
     "metadata": {},
     "output_type": "execute_result"
    }
   ],
   "source": [
    "df_test['stroke'].value_counts()"
   ]
  },
  {
   "cell_type": "code",
   "execution_count": 18,
   "id": "0e29bb67",
   "metadata": {},
   "outputs": [],
   "source": [
    "df_train, df_val=train_test_split(df_full_train,test_size=0.25,random_state=42)"
   ]
  },
  {
   "cell_type": "code",
   "execution_count": 19,
   "id": "9ff7bb4a",
   "metadata": {},
   "outputs": [],
   "source": [
    "df_full_train=df_full_train.reset_index(drop=True)\n",
    "df_train=df_train.reset_index(drop=True)\n",
    "df_test=df_test.reset_index(drop=True)\n",
    "df_val=df_val.reset_index(drop=True)\n",
    "\n",
    "y_train=df_train['stroke'].values\n",
    "y_full_train=df_full_train['stroke'].values\n",
    "y_test=df_test['stroke'].values\n",
    "y_val=df_val['stroke'].values\n",
    "\n",
    "del df_train['stroke']\n",
    "del df_test['stroke']\n",
    "del df_val['stroke']\n",
    "\n",
    "\n",
    "\n",
    "\n",
    "# del df_full_train['stroke']"
   ]
  },
  {
   "cell_type": "markdown",
   "id": "0dfb8a25",
   "metadata": {},
   "source": [
    "## Feature Importance -Categorical"
   ]
  },
  {
   "cell_type": "markdown",
   "id": "a0eb273b",
   "metadata": {},
   "source": [
    "## Feature Importance using stroke rate"
   ]
  },
  {
   "cell_type": "code",
   "execution_count": 20,
   "id": "37d7003f",
   "metadata": {},
   "outputs": [
    {
     "data": {
      "text/plain": [
       "female    2401\n",
       "male      1687\n",
       "Name: gender, dtype: int64"
      ]
     },
     "execution_count": 20,
     "metadata": {},
     "output_type": "execute_result"
    }
   ],
   "source": [
    " from IPython.display import display\n",
    "global_stroke_rate=df_full_train.stroke.mean()\n",
    "global_stroke_rate\n",
    "df_full_train['gender'].value_counts()"
   ]
  },
  {
   "cell_type": "code",
   "execution_count": 21,
   "id": "47d1557e",
   "metadata": {
    "scrolled": true
   },
   "outputs": [
    {
     "name": "stdout",
     "output_type": "stream",
     "text": [
      "\n"
     ]
    },
    {
     "data": {
      "text/html": [
       "<div>\n",
       "<style scoped>\n",
       "    .dataframe tbody tr th:only-of-type {\n",
       "        vertical-align: middle;\n",
       "    }\n",
       "\n",
       "    .dataframe tbody tr th {\n",
       "        vertical-align: top;\n",
       "    }\n",
       "\n",
       "    .dataframe thead th {\n",
       "        text-align: right;\n",
       "    }\n",
       "</style>\n",
       "<table border=\"1\" class=\"dataframe\">\n",
       "  <thead>\n",
       "    <tr style=\"text-align: right;\">\n",
       "      <th></th>\n",
       "      <th>mean</th>\n",
       "      <th>count</th>\n",
       "      <th>global_stroke_rate</th>\n",
       "      <th>diff</th>\n",
       "      <th>risk</th>\n",
       "    </tr>\n",
       "    <tr>\n",
       "      <th>gender</th>\n",
       "      <th></th>\n",
       "      <th></th>\n",
       "      <th></th>\n",
       "      <th></th>\n",
       "      <th></th>\n",
       "    </tr>\n",
       "  </thead>\n",
       "  <tbody>\n",
       "    <tr>\n",
       "      <th>female</th>\n",
       "      <td>0.044565</td>\n",
       "      <td>2401</td>\n",
       "      <td>0.045744</td>\n",
       "      <td>-0.001179</td>\n",
       "      <td>0.974229</td>\n",
       "    </tr>\n",
       "    <tr>\n",
       "      <th>male</th>\n",
       "      <td>0.047421</td>\n",
       "      <td>1687</td>\n",
       "      <td>0.045744</td>\n",
       "      <td>0.001678</td>\n",
       "      <td>1.036679</td>\n",
       "    </tr>\n",
       "  </tbody>\n",
       "</table>\n",
       "</div>"
      ],
      "text/plain": [
       "            mean  count  global_stroke_rate      diff      risk\n",
       "gender                                                         \n",
       "female  0.044565   2401            0.045744 -0.001179  0.974229\n",
       "male    0.047421   1687            0.045744  0.001678  1.036679"
      ]
     },
     "metadata": {},
     "output_type": "display_data"
    },
    {
     "name": "stdout",
     "output_type": "stream",
     "text": [
      "\n"
     ]
    },
    {
     "data": {
      "text/html": [
       "<div>\n",
       "<style scoped>\n",
       "    .dataframe tbody tr th:only-of-type {\n",
       "        vertical-align: middle;\n",
       "    }\n",
       "\n",
       "    .dataframe tbody tr th {\n",
       "        vertical-align: top;\n",
       "    }\n",
       "\n",
       "    .dataframe thead th {\n",
       "        text-align: right;\n",
       "    }\n",
       "</style>\n",
       "<table border=\"1\" class=\"dataframe\">\n",
       "  <thead>\n",
       "    <tr style=\"text-align: right;\">\n",
       "      <th></th>\n",
       "      <th>mean</th>\n",
       "      <th>count</th>\n",
       "      <th>global_stroke_rate</th>\n",
       "      <th>diff</th>\n",
       "      <th>risk</th>\n",
       "    </tr>\n",
       "    <tr>\n",
       "      <th>ever_married</th>\n",
       "      <th></th>\n",
       "      <th></th>\n",
       "      <th></th>\n",
       "      <th></th>\n",
       "      <th></th>\n",
       "    </tr>\n",
       "  </thead>\n",
       "  <tbody>\n",
       "    <tr>\n",
       "      <th>no</th>\n",
       "      <td>0.017718</td>\n",
       "      <td>1411</td>\n",
       "      <td>0.045744</td>\n",
       "      <td>-0.028026</td>\n",
       "      <td>0.387331</td>\n",
       "    </tr>\n",
       "    <tr>\n",
       "      <th>yes</th>\n",
       "      <td>0.060516</td>\n",
       "      <td>2677</td>\n",
       "      <td>0.045744</td>\n",
       "      <td>0.014772</td>\n",
       "      <td>1.322927</td>\n",
       "    </tr>\n",
       "  </tbody>\n",
       "</table>\n",
       "</div>"
      ],
      "text/plain": [
       "                  mean  count  global_stroke_rate      diff      risk\n",
       "ever_married                                                         \n",
       "no            0.017718   1411            0.045744 -0.028026  0.387331\n",
       "yes           0.060516   2677            0.045744  0.014772  1.322927"
      ]
     },
     "metadata": {},
     "output_type": "display_data"
    },
    {
     "name": "stdout",
     "output_type": "stream",
     "text": [
      "\n"
     ]
    },
    {
     "data": {
      "text/html": [
       "<div>\n",
       "<style scoped>\n",
       "    .dataframe tbody tr th:only-of-type {\n",
       "        vertical-align: middle;\n",
       "    }\n",
       "\n",
       "    .dataframe tbody tr th {\n",
       "        vertical-align: top;\n",
       "    }\n",
       "\n",
       "    .dataframe thead th {\n",
       "        text-align: right;\n",
       "    }\n",
       "</style>\n",
       "<table border=\"1\" class=\"dataframe\">\n",
       "  <thead>\n",
       "    <tr style=\"text-align: right;\">\n",
       "      <th></th>\n",
       "      <th>mean</th>\n",
       "      <th>count</th>\n",
       "      <th>global_stroke_rate</th>\n",
       "      <th>diff</th>\n",
       "      <th>risk</th>\n",
       "    </tr>\n",
       "    <tr>\n",
       "      <th>work_type</th>\n",
       "      <th></th>\n",
       "      <th></th>\n",
       "      <th></th>\n",
       "      <th></th>\n",
       "      <th></th>\n",
       "    </tr>\n",
       "  </thead>\n",
       "  <tbody>\n",
       "    <tr>\n",
       "      <th>children</th>\n",
       "      <td>0.003711</td>\n",
       "      <td>539</td>\n",
       "      <td>0.045744</td>\n",
       "      <td>-0.042033</td>\n",
       "      <td>0.081117</td>\n",
       "    </tr>\n",
       "    <tr>\n",
       "      <th>govt_job</th>\n",
       "      <td>0.046468</td>\n",
       "      <td>538</td>\n",
       "      <td>0.045744</td>\n",
       "      <td>0.000725</td>\n",
       "      <td>1.015844</td>\n",
       "    </tr>\n",
       "    <tr>\n",
       "      <th>never_worked</th>\n",
       "      <td>0.000000</td>\n",
       "      <td>20</td>\n",
       "      <td>0.045744</td>\n",
       "      <td>-0.045744</td>\n",
       "      <td>0.000000</td>\n",
       "    </tr>\n",
       "    <tr>\n",
       "      <th>private</th>\n",
       "      <td>0.047986</td>\n",
       "      <td>2334</td>\n",
       "      <td>0.045744</td>\n",
       "      <td>0.002243</td>\n",
       "      <td>1.049026</td>\n",
       "    </tr>\n",
       "    <tr>\n",
       "      <th>self-employed</th>\n",
       "      <td>0.073059</td>\n",
       "      <td>657</td>\n",
       "      <td>0.045744</td>\n",
       "      <td>0.027316</td>\n",
       "      <td>1.597148</td>\n",
       "    </tr>\n",
       "  </tbody>\n",
       "</table>\n",
       "</div>"
      ],
      "text/plain": [
       "                   mean  count  global_stroke_rate      diff      risk\n",
       "work_type                                                             \n",
       "children       0.003711    539            0.045744 -0.042033  0.081117\n",
       "govt_job       0.046468    538            0.045744  0.000725  1.015844\n",
       "never_worked   0.000000     20            0.045744 -0.045744  0.000000\n",
       "private        0.047986   2334            0.045744  0.002243  1.049026\n",
       "self-employed  0.073059    657            0.045744  0.027316  1.597148"
      ]
     },
     "metadata": {},
     "output_type": "display_data"
    },
    {
     "name": "stdout",
     "output_type": "stream",
     "text": [
      "\n"
     ]
    },
    {
     "data": {
      "text/html": [
       "<div>\n",
       "<style scoped>\n",
       "    .dataframe tbody tr th:only-of-type {\n",
       "        vertical-align: middle;\n",
       "    }\n",
       "\n",
       "    .dataframe tbody tr th {\n",
       "        vertical-align: top;\n",
       "    }\n",
       "\n",
       "    .dataframe thead th {\n",
       "        text-align: right;\n",
       "    }\n",
       "</style>\n",
       "<table border=\"1\" class=\"dataframe\">\n",
       "  <thead>\n",
       "    <tr style=\"text-align: right;\">\n",
       "      <th></th>\n",
       "      <th>mean</th>\n",
       "      <th>count</th>\n",
       "      <th>global_stroke_rate</th>\n",
       "      <th>diff</th>\n",
       "      <th>risk</th>\n",
       "    </tr>\n",
       "    <tr>\n",
       "      <th>residence_type</th>\n",
       "      <th></th>\n",
       "      <th></th>\n",
       "      <th></th>\n",
       "      <th></th>\n",
       "      <th></th>\n",
       "    </tr>\n",
       "  </thead>\n",
       "  <tbody>\n",
       "    <tr>\n",
       "      <th>rural</th>\n",
       "      <td>0.042564</td>\n",
       "      <td>1997</td>\n",
       "      <td>0.045744</td>\n",
       "      <td>-0.003180</td>\n",
       "      <td>0.930487</td>\n",
       "    </tr>\n",
       "    <tr>\n",
       "      <th>urban</th>\n",
       "      <td>0.048780</td>\n",
       "      <td>2091</td>\n",
       "      <td>0.045744</td>\n",
       "      <td>0.003037</td>\n",
       "      <td>1.066388</td>\n",
       "    </tr>\n",
       "  </tbody>\n",
       "</table>\n",
       "</div>"
      ],
      "text/plain": [
       "                    mean  count  global_stroke_rate      diff      risk\n",
       "residence_type                                                         \n",
       "rural           0.042564   1997            0.045744 -0.003180  0.930487\n",
       "urban           0.048780   2091            0.045744  0.003037  1.066388"
      ]
     },
     "metadata": {},
     "output_type": "display_data"
    },
    {
     "name": "stdout",
     "output_type": "stream",
     "text": [
      "\n"
     ]
    },
    {
     "data": {
      "text/html": [
       "<div>\n",
       "<style scoped>\n",
       "    .dataframe tbody tr th:only-of-type {\n",
       "        vertical-align: middle;\n",
       "    }\n",
       "\n",
       "    .dataframe tbody tr th {\n",
       "        vertical-align: top;\n",
       "    }\n",
       "\n",
       "    .dataframe thead th {\n",
       "        text-align: right;\n",
       "    }\n",
       "</style>\n",
       "<table border=\"1\" class=\"dataframe\">\n",
       "  <thead>\n",
       "    <tr style=\"text-align: right;\">\n",
       "      <th></th>\n",
       "      <th>mean</th>\n",
       "      <th>count</th>\n",
       "      <th>global_stroke_rate</th>\n",
       "      <th>diff</th>\n",
       "      <th>risk</th>\n",
       "    </tr>\n",
       "    <tr>\n",
       "      <th>smoking_status</th>\n",
       "      <th></th>\n",
       "      <th></th>\n",
       "      <th></th>\n",
       "      <th></th>\n",
       "      <th></th>\n",
       "    </tr>\n",
       "  </thead>\n",
       "  <tbody>\n",
       "    <tr>\n",
       "      <th>formerly_smoked</th>\n",
       "      <td>0.070225</td>\n",
       "      <td>712</td>\n",
       "      <td>0.045744</td>\n",
       "      <td>0.024481</td>\n",
       "      <td>1.535180</td>\n",
       "    </tr>\n",
       "    <tr>\n",
       "      <th>never_smoked</th>\n",
       "      <td>0.045123</td>\n",
       "      <td>1507</td>\n",
       "      <td>0.045744</td>\n",
       "      <td>-0.000621</td>\n",
       "      <td>0.986427</td>\n",
       "    </tr>\n",
       "    <tr>\n",
       "      <th>smokes</th>\n",
       "      <td>0.051887</td>\n",
       "      <td>636</td>\n",
       "      <td>0.045744</td>\n",
       "      <td>0.006143</td>\n",
       "      <td>1.134295</td>\n",
       "    </tr>\n",
       "    <tr>\n",
       "      <th>unknown</th>\n",
       "      <td>0.029197</td>\n",
       "      <td>1233</td>\n",
       "      <td>0.045744</td>\n",
       "      <td>-0.016547</td>\n",
       "      <td>0.638276</td>\n",
       "    </tr>\n",
       "  </tbody>\n",
       "</table>\n",
       "</div>"
      ],
      "text/plain": [
       "                     mean  count  global_stroke_rate      diff      risk\n",
       "smoking_status                                                          \n",
       "formerly_smoked  0.070225    712            0.045744  0.024481  1.535180\n",
       "never_smoked     0.045123   1507            0.045744 -0.000621  0.986427\n",
       "smokes           0.051887    636            0.045744  0.006143  1.134295\n",
       "unknown          0.029197   1233            0.045744 -0.016547  0.638276"
      ]
     },
     "metadata": {},
     "output_type": "display_data"
    }
   ],
   "source": [
    "for c in ['gender','ever_married', 'work_type', 'residence_type', 'smoking_status']:\n",
    "    print()\n",
    "    df_cat_group=df_full_train.groupby(c).stroke.agg(['mean','count'])\n",
    "    df_cat_group['global_stroke_rate']=global_stroke_rate\n",
    "    df_cat_group['diff']=df_cat_group['mean']-global_stroke_rate\n",
    "    df_cat_group['risk']=df_cat_group['mean']/global_stroke_rate\n",
    "    display(df_cat_group)"
   ]
  },
  {
   "cell_type": "markdown",
   "id": "64c7f555",
   "metadata": {},
   "source": [
    "## Feature Importance using mutual info for categorical Varaibles"
   ]
  },
  {
   "cell_type": "code",
   "execution_count": 22,
   "id": "b651f791",
   "metadata": {},
   "outputs": [],
   "source": [
    "from sklearn.metrics import mutual_info_score"
   ]
  },
  {
   "cell_type": "code",
   "execution_count": 23,
   "id": "8469db3b",
   "metadata": {},
   "outputs": [
    {
     "data": {
      "text/html": [
       "<div>\n",
       "<style scoped>\n",
       "    .dataframe tbody tr th:only-of-type {\n",
       "        vertical-align: middle;\n",
       "    }\n",
       "\n",
       "    .dataframe tbody tr th {\n",
       "        vertical-align: top;\n",
       "    }\n",
       "\n",
       "    .dataframe thead th {\n",
       "        text-align: right;\n",
       "    }\n",
       "</style>\n",
       "<table border=\"1\" class=\"dataframe\">\n",
       "  <thead>\n",
       "    <tr style=\"text-align: right;\">\n",
       "      <th></th>\n",
       "      <th>categorical_var</th>\n",
       "      <th>mutual_score</th>\n",
       "    </tr>\n",
       "  </thead>\n",
       "  <tbody>\n",
       "    <tr>\n",
       "      <th>2</th>\n",
       "      <td>work_type</td>\n",
       "      <td>0.005867</td>\n",
       "    </tr>\n",
       "    <tr>\n",
       "      <th>1</th>\n",
       "      <td>ever_married</td>\n",
       "      <td>0.005505</td>\n",
       "    </tr>\n",
       "    <tr>\n",
       "      <th>4</th>\n",
       "      <td>smoking_status</td>\n",
       "      <td>0.002180</td>\n",
       "    </tr>\n",
       "    <tr>\n",
       "      <th>3</th>\n",
       "      <td>residence_type</td>\n",
       "      <td>0.000111</td>\n",
       "    </tr>\n",
       "    <tr>\n",
       "      <th>0</th>\n",
       "      <td>gender</td>\n",
       "      <td>0.000023</td>\n",
       "    </tr>\n",
       "  </tbody>\n",
       "</table>\n",
       "</div>"
      ],
      "text/plain": [
       "  categorical_var  mutual_score\n",
       "2       work_type      0.005867\n",
       "1    ever_married      0.005505\n",
       "4  smoking_status      0.002180\n",
       "3  residence_type      0.000111\n",
       "0          gender      0.000023"
      ]
     },
     "execution_count": 23,
     "metadata": {},
     "output_type": "execute_result"
    }
   ],
   "source": [
    "feature_scores=[]\n",
    "for c in categorical:\n",
    "     feature_scores.append((c,mutual_info_score(df_full_train[c],df_full_train['stroke'])))\n",
    "columns=['categorical_var','mutual_score']\n",
    "df_col_mutual_scores=pd.DataFrame(feature_scores, columns=columns)\n",
    "df_col_mutual_scores.sort_values('mutual_score', ascending=False)\n",
    "    "
   ]
  },
  {
   "cell_type": "markdown",
   "id": "ae103109",
   "metadata": {},
   "source": [
    "## Feature Importance - Numerical"
   ]
  },
  {
   "cell_type": "code",
   "execution_count": 24,
   "id": "c0543904",
   "metadata": {},
   "outputs": [
    {
     "data": {
      "text/plain": [
       "id                   0.010855\n",
       "age                  0.237170\n",
       "hypertension         0.118129\n",
       "heart_disease        0.131467\n",
       "avg_glucose_level    0.122887\n",
       "bmi                  0.038813\n",
       "dtype: float64"
      ]
     },
     "execution_count": 24,
     "metadata": {},
     "output_type": "execute_result"
    }
   ],
   "source": [
    "df_full_train[numerical].corrwith(df_full_train.stroke)"
   ]
  },
  {
   "cell_type": "markdown",
   "id": "c9823735",
   "metadata": {},
   "source": [
    "## One Hot Encoding"
   ]
  },
  {
   "cell_type": "code",
   "execution_count": 25,
   "id": "ed55e25d",
   "metadata": {},
   "outputs": [],
   "source": [
    "train_dicts=df_train[categorical+numerical].to_dict(orient='records')\n",
    "test_dicts=df_test[categorical+numerical].to_dict(orient='records')\n",
    "val_dicts=df_val[categorical+numerical].to_dict(orient='records')\n",
    "dv=DictVectorizer(sparse=False)\n",
    "X_train=dv.fit_transform(train_dicts)\n",
    "X_val=dv.transform(val_dicts)\n",
    "X_test=dv.transform(test_dicts)\n"
   ]
  },
  {
   "cell_type": "code",
   "execution_count": 26,
   "id": "9317217f",
   "metadata": {},
   "outputs": [
    {
     "data": {
      "text/plain": [
       "['age',\n",
       " 'avg_glucose_level',\n",
       " 'bmi',\n",
       " 'ever_married=no',\n",
       " 'ever_married=yes',\n",
       " 'gender=female',\n",
       " 'gender=male',\n",
       " 'heart_disease',\n",
       " 'hypertension',\n",
       " 'id',\n",
       " 'residence_type=rural',\n",
       " 'residence_type=urban',\n",
       " 'smoking_status=formerly_smoked',\n",
       " 'smoking_status=never_smoked',\n",
       " 'smoking_status=smokes',\n",
       " 'smoking_status=unknown',\n",
       " 'work_type=children',\n",
       " 'work_type=govt_job',\n",
       " 'work_type=never_worked',\n",
       " 'work_type=private',\n",
       " 'work_type=self-employed']"
      ]
     },
     "execution_count": 26,
     "metadata": {},
     "output_type": "execute_result"
    }
   ],
   "source": [
    "dv.get_feature_names()"
   ]
  },
  {
   "cell_type": "code",
   "execution_count": 27,
   "id": "5875eb5e",
   "metadata": {},
   "outputs": [
    {
     "data": {
      "text/plain": [
       "LogisticRegression(class_weight='balanced', max_iter=1000)"
      ]
     },
     "execution_count": 27,
     "metadata": {},
     "output_type": "execute_result"
    }
   ],
   "source": [
    "model=LogisticRegression(max_iter=1000,class_weight='balanced')#--,solver='liblinear'\n",
    "model.fit(X_train,y_train)"
   ]
  },
  {
   "cell_type": "code",
   "execution_count": 28,
   "id": "de6448da",
   "metadata": {},
   "outputs": [
    {
     "data": {
      "text/plain": [
       "array([0.12707363, 0.87704469, 0.93897209, ..., 0.6745551 , 0.25206834,\n",
       "       0.87987478])"
      ]
     },
     "execution_count": 28,
     "metadata": {},
     "output_type": "execute_result"
    }
   ],
   "source": [
    "y_pred_val=model.predict_proba(X_val)[:,1]# Soft Predictions- Score\n",
    "\n",
    "y_pred_val"
   ]
  },
  {
   "cell_type": "code",
   "execution_count": 29,
   "id": "958ae5a0",
   "metadata": {},
   "outputs": [],
   "source": [
    "stroke_decision=y_pred_val>0.5"
   ]
  },
  {
   "cell_type": "code",
   "execution_count": 30,
   "id": "7f19c4b3",
   "metadata": {},
   "outputs": [
    {
     "name": "stdout",
     "output_type": "stream",
     "text": [
      "0.00,0.043\n",
      "0.05,0.168\n",
      "0.10,0.304\n",
      "0.15,0.390\n",
      "0.20,0.441\n",
      "0.25,0.482\n",
      "0.30,0.542\n",
      "0.35,0.597\n",
      "0.40,0.639\n",
      "0.45,0.678\n",
      "0.50,0.714\n",
      "0.55,0.752\n",
      "0.60,0.776\n",
      "0.65,0.814\n",
      "0.70,0.837\n",
      "0.75,0.866\n",
      "0.80,0.892\n",
      "0.85,0.914\n",
      "0.90,0.943\n",
      "0.95,0.959\n",
      "1.00,0.957\n"
     ]
    }
   ],
   "source": [
    "scores=[]\n",
    "thresholds=np.linspace(0,1,21)\n",
    "for i in thresholds:\n",
    "    stroke_threshold=y_pred_val>i\n",
    "    score=(stroke_threshold==y_val).mean()\n",
    "    print('%.2f,%.3f' %(i,score))\n",
    "    scores.append((score))\n"
   ]
  },
  {
   "cell_type": "code",
   "execution_count": 31,
   "id": "0728e14f",
   "metadata": {},
   "outputs": [
    {
     "data": {
      "text/plain": [
       "[<matplotlib.lines.Line2D at 0x7f7972031190>]"
      ]
     },
     "execution_count": 31,
     "metadata": {},
     "output_type": "execute_result"
    },
    {
     "data": {
      "image/png": "[encoded data removed]",
      "text/plain": [
       "<Figure size 432x288 with 1 Axes>"
      ]
     },
     "metadata": {
      "needs_background": "light"
     },
     "output_type": "display_data"
    }
   ],
   "source": [
    "plt.plot(thresholds,scores)"
   ]
  },
  {
   "cell_type": "markdown",
   "id": "0d9b5545",
   "metadata": {},
   "source": [
    "## Accuracy"
   ]
  },
  {
   "cell_type": "code",
   "execution_count": 32,
   "id": "62d5b731",
   "metadata": {},
   "outputs": [
    {
     "data": {
      "text/plain": [
       "(730, 1022)"
      ]
     },
     "execution_count": 32,
     "metadata": {},
     "output_type": "execute_result"
    }
   ],
   "source": [
    "(stroke_decision==y_val).sum(), len(stroke_decision)"
   ]
  },
  {
   "cell_type": "code",
   "execution_count": 33,
   "id": "4f1141ac",
   "metadata": {},
   "outputs": [],
   "source": [
    "df_pred = pd.DataFrame({'probability':y_pred_val, 'prediction':stroke_decision.astype(int),'actual':y_val})\n",
    "\n",
    "df_pred['correct']=(df_pred['prediction']==df_pred['actual'])"
   ]
  },
  {
   "cell_type": "code",
   "execution_count": 34,
   "id": "fa54c4e3",
   "metadata": {},
   "outputs": [
    {
     "data": {
      "text/html": [
       "<div>\n",
       "<style scoped>\n",
       "    .dataframe tbody tr th:only-of-type {\n",
       "        vertical-align: middle;\n",
       "    }\n",
       "\n",
       "    .dataframe tbody tr th {\n",
       "        vertical-align: top;\n",
       "    }\n",
       "\n",
       "    .dataframe thead th {\n",
       "        text-align: right;\n",
       "    }\n",
       "</style>\n",
       "<table border=\"1\" class=\"dataframe\">\n",
       "  <thead>\n",
       "    <tr style=\"text-align: right;\">\n",
       "      <th></th>\n",
       "      <th>probability</th>\n",
       "      <th>prediction</th>\n",
       "      <th>actual</th>\n",
       "      <th>correct</th>\n",
       "    </tr>\n",
       "  </thead>\n",
       "  <tbody>\n",
       "    <tr>\n",
       "      <th>0</th>\n",
       "      <td>0.127074</td>\n",
       "      <td>0</td>\n",
       "      <td>0</td>\n",
       "      <td>True</td>\n",
       "    </tr>\n",
       "    <tr>\n",
       "      <th>1</th>\n",
       "      <td>0.877045</td>\n",
       "      <td>1</td>\n",
       "      <td>1</td>\n",
       "      <td>True</td>\n",
       "    </tr>\n",
       "    <tr>\n",
       "      <th>2</th>\n",
       "      <td>0.938972</td>\n",
       "      <td>1</td>\n",
       "      <td>0</td>\n",
       "      <td>False</td>\n",
       "    </tr>\n",
       "    <tr>\n",
       "      <th>3</th>\n",
       "      <td>0.049740</td>\n",
       "      <td>0</td>\n",
       "      <td>0</td>\n",
       "      <td>True</td>\n",
       "    </tr>\n",
       "    <tr>\n",
       "      <th>4</th>\n",
       "      <td>0.907706</td>\n",
       "      <td>1</td>\n",
       "      <td>0</td>\n",
       "      <td>False</td>\n",
       "    </tr>\n",
       "    <tr>\n",
       "      <th>...</th>\n",
       "      <td>...</td>\n",
       "      <td>...</td>\n",
       "      <td>...</td>\n",
       "      <td>...</td>\n",
       "    </tr>\n",
       "    <tr>\n",
       "      <th>1017</th>\n",
       "      <td>0.252040</td>\n",
       "      <td>0</td>\n",
       "      <td>0</td>\n",
       "      <td>True</td>\n",
       "    </tr>\n",
       "    <tr>\n",
       "      <th>1018</th>\n",
       "      <td>0.529729</td>\n",
       "      <td>1</td>\n",
       "      <td>0</td>\n",
       "      <td>False</td>\n",
       "    </tr>\n",
       "    <tr>\n",
       "      <th>1019</th>\n",
       "      <td>0.674555</td>\n",
       "      <td>1</td>\n",
       "      <td>0</td>\n",
       "      <td>False</td>\n",
       "    </tr>\n",
       "    <tr>\n",
       "      <th>1020</th>\n",
       "      <td>0.252068</td>\n",
       "      <td>0</td>\n",
       "      <td>0</td>\n",
       "      <td>True</td>\n",
       "    </tr>\n",
       "    <tr>\n",
       "      <th>1021</th>\n",
       "      <td>0.879875</td>\n",
       "      <td>1</td>\n",
       "      <td>0</td>\n",
       "      <td>False</td>\n",
       "    </tr>\n",
       "  </tbody>\n",
       "</table>\n",
       "<p>1022 rows × 4 columns</p>\n",
       "</div>"
      ],
      "text/plain": [
       "      probability  prediction  actual  correct\n",
       "0        0.127074           0       0     True\n",
       "1        0.877045           1       1     True\n",
       "2        0.938972           1       0    False\n",
       "3        0.049740           0       0     True\n",
       "4        0.907706           1       0    False\n",
       "...           ...         ...     ...      ...\n",
       "1017     0.252040           0       0     True\n",
       "1018     0.529729           1       0    False\n",
       "1019     0.674555           1       0    False\n",
       "1020     0.252068           0       0     True\n",
       "1021     0.879875           1       0    False\n",
       "\n",
       "[1022 rows x 4 columns]"
      ]
     },
     "execution_count": 34,
     "metadata": {},
     "output_type": "execute_result"
    }
   ],
   "source": [
    "df_pred"
   ]
  },
  {
   "cell_type": "code",
   "execution_count": 35,
   "id": "91f3f053",
   "metadata": {},
   "outputs": [
    {
     "data": {
      "text/plain": [
       "0.7142857142857143"
      ]
     },
     "execution_count": 35,
     "metadata": {},
     "output_type": "execute_result"
    }
   ],
   "source": [
    "df_pred['correct'].mean()"
   ]
  },
  {
   "cell_type": "code",
   "execution_count": 36,
   "id": "049ae77d",
   "metadata": {},
   "outputs": [
    {
     "name": "stdout",
     "output_type": "stream",
     "text": [
      "0.7142857142857143\n"
     ]
    }
   ],
   "source": [
    "from sklearn.metrics import accuracy_score\n",
    "print(accuracy_score(y_val,stroke_decision))"
   ]
  },
  {
   "cell_type": "code",
   "execution_count": 37,
   "id": "57f24396",
   "metadata": {},
   "outputs": [
    {
     "data": {
      "text/plain": [
       "0.7142857142857143"
      ]
     },
     "execution_count": 37,
     "metadata": {},
     "output_type": "execute_result"
    }
   ],
   "source": [
    "(y_val==stroke_decision).mean()"
   ]
  },
  {
   "cell_type": "code",
   "execution_count": 38,
   "id": "d0141194",
   "metadata": {},
   "outputs": [],
   "source": [
    "# df.loc[df['column_name'] == value]"
   ]
  },
  {
   "cell_type": "code",
   "execution_count": 39,
   "id": "d38d9e19",
   "metadata": {},
   "outputs": [
    {
     "data": {
      "text/html": [
       "<div>\n",
       "<style scoped>\n",
       "    .dataframe tbody tr th:only-of-type {\n",
       "        vertical-align: middle;\n",
       "    }\n",
       "\n",
       "    .dataframe tbody tr th {\n",
       "        vertical-align: top;\n",
       "    }\n",
       "\n",
       "    .dataframe thead th {\n",
       "        text-align: right;\n",
       "    }\n",
       "</style>\n",
       "<table border=\"1\" class=\"dataframe\">\n",
       "  <thead>\n",
       "    <tr style=\"text-align: right;\">\n",
       "      <th></th>\n",
       "      <th>id</th>\n",
       "      <th>gender</th>\n",
       "      <th>age</th>\n",
       "      <th>hypertension</th>\n",
       "      <th>heart_disease</th>\n",
       "      <th>ever_married</th>\n",
       "      <th>work_type</th>\n",
       "      <th>residence_type</th>\n",
       "      <th>avg_glucose_level</th>\n",
       "      <th>bmi</th>\n",
       "      <th>smoking_status</th>\n",
       "      <th>stroke</th>\n",
       "    </tr>\n",
       "  </thead>\n",
       "  <tbody>\n",
       "    <tr>\n",
       "      <th>103</th>\n",
       "      <td>4712</td>\n",
       "      <td>female</td>\n",
       "      <td>81.0</td>\n",
       "      <td>0</td>\n",
       "      <td>1</td>\n",
       "      <td>yes</td>\n",
       "      <td>self-employed</td>\n",
       "      <td>rural</td>\n",
       "      <td>78.7</td>\n",
       "      <td>19.4</td>\n",
       "      <td>unknown</td>\n",
       "      <td>1</td>\n",
       "    </tr>\n",
       "  </tbody>\n",
       "</table>\n",
       "</div>"
      ],
      "text/plain": [
       "       id  gender   age  hypertension  heart_disease ever_married  \\\n",
       "103  4712  female  81.0             0              1          yes   \n",
       "\n",
       "         work_type residence_type  avg_glucose_level   bmi smoking_status  \\\n",
       "103  self-employed          rural               78.7  19.4        unknown   \n",
       "\n",
       "     stroke  \n",
       "103       1  "
      ]
     },
     "execution_count": 39,
     "metadata": {},
     "output_type": "execute_result"
    }
   ],
   "source": [
    "df.loc[df['id'] == 4712]"
   ]
  },
  {
   "cell_type": "code",
   "execution_count": 40,
   "id": "37af1055",
   "metadata": {},
   "outputs": [
    {
     "data": {
      "text/plain": [
       "{'age': 0.05855425822304231,\n",
       " 'avg_glucose_level': 0.004184566721872566,\n",
       " 'bmi': -0.04973694299597381,\n",
       " 'ever_married=no': -0.5565973623947604,\n",
       " 'ever_married=yes': -0.2504126438562355,\n",
       " 'gender=female': -0.5436797266628517,\n",
       " 'gender=male': -0.263330279584046,\n",
       " 'heart_disease': 0.3360846978343081,\n",
       " 'hypertension': 0.610902012468069,\n",
       " 'id': -2.35242360055464e-07,\n",
       " 'residence_type=rural': -0.2114858196662791,\n",
       " 'residence_type=urban': -0.5955241865852201,\n",
       " 'smoking_status=formerly_smoked': 0.11510159414684276,\n",
       " 'smoking_status=never_smoked': -0.45812469240295983,\n",
       " 'smoking_status=smokes': 0.12171819959601768,\n",
       " 'smoking_status=unknown': -0.5857051075895663,\n",
       " 'work_type=children': -0.27707502986985494,\n",
       " 'work_type=govt_job': -0.16863698913822847,\n",
       " 'work_type=never_worked': -0.017189215212660952,\n",
       " 'work_type=private': -0.26488076477174993,\n",
       " 'work_type=self-employed': -0.07922800725514653}"
      ]
     },
     "execution_count": 40,
     "metadata": {},
     "output_type": "execute_result"
    }
   ],
   "source": [
    "dict(zip(dv.get_feature_names(),model.coef_[0]))"
   ]
  },
  {
   "cell_type": "code",
   "execution_count": 41,
   "id": "1f4c7bf3",
   "metadata": {},
   "outputs": [
    {
     "data": {
      "text/plain": [
       "array([-0.80705156])"
      ]
     },
     "execution_count": 41,
     "metadata": {},
     "output_type": "execute_result"
    }
   ],
   "source": [
    "model.coef_[0]\n",
    "model.intercept_"
   ]
  },
  {
   "cell_type": "code",
   "execution_count": 42,
   "id": "917651a4",
   "metadata": {},
   "outputs": [
    {
     "data": {
      "text/plain": [
       "['age',\n",
       " 'avg_glucose_level',\n",
       " 'bmi',\n",
       " 'ever_married=no',\n",
       " 'ever_married=yes',\n",
       " 'gender=female',\n",
       " 'gender=male',\n",
       " 'heart_disease',\n",
       " 'hypertension',\n",
       " 'id',\n",
       " 'residence_type=rural',\n",
       " 'residence_type=urban',\n",
       " 'smoking_status=formerly_smoked',\n",
       " 'smoking_status=never_smoked',\n",
       " 'smoking_status=smokes',\n",
       " 'smoking_status=unknown',\n",
       " 'work_type=children',\n",
       " 'work_type=govt_job',\n",
       " 'work_type=never_worked',\n",
       " 'work_type=private',\n",
       " 'work_type=self-employed']"
      ]
     },
     "execution_count": 42,
     "metadata": {},
     "output_type": "execute_result"
    }
   ],
   "source": [
    "dv.get_feature_names()"
   ]
  },
  {
   "cell_type": "markdown",
   "id": "89e2671f",
   "metadata": {},
   "source": [
    "###    "
   ]
  },
  {
   "cell_type": "code",
   "execution_count": null,
   "id": "39788718",
   "metadata": {},
   "outputs": [],
   "source": []
  },
  {
   "cell_type": "code",
   "execution_count": 43,
   "id": "b69dadd7",
   "metadata": {},
   "outputs": [
    {
     "data": {
      "text/plain": [
       "array([False,  True,  True, False,  True])"
      ]
     },
     "execution_count": 43,
     "metadata": {},
     "output_type": "execute_result"
    }
   ],
   "source": [
    "\n",
    "t=0.5\n",
    "actual_positive=(y_val==1)\n",
    "actual_negative=(y_val==0)\n",
    "\n",
    "predict_positive=(y_pred_val>=0.5)\n",
    "predict_negative=(y_pred_val<0.5)\n",
    "\n",
    "predict_positive[:5]"
   ]
  },
  {
   "cell_type": "code",
   "execution_count": 44,
   "id": "27227e57",
   "metadata": {},
   "outputs": [
    {
     "data": {
      "text/plain": [
       "array([False,  True, False, ..., False, False, False])"
      ]
     },
     "execution_count": 44,
     "metadata": {},
     "output_type": "execute_result"
    }
   ],
   "source": [
    "actual_positive"
   ]
  },
  {
   "cell_type": "code",
   "execution_count": 45,
   "id": "033554c8",
   "metadata": {},
   "outputs": [
    {
     "ename": "NameError",
     "evalue": "name 'Counter' is not defined",
     "output_type": "error",
     "traceback": [
      "\u001b[0;31m---------------------------------------------------------------------------\u001b[0m",
      "\u001b[0;31mNameError\u001b[0m                                 Traceback (most recent call last)",
      "\u001b[0;32m/tmp/ipykernel_1552/1468564423.py\u001b[0m in \u001b[0;36m<module>\u001b[0;34m\u001b[0m\n\u001b[0;32m----> 1\u001b[0;31m \u001b[0mCounter\u001b[0m\u001b[0;34m(\u001b[0m\u001b[0mactual_positive\u001b[0m\u001b[0;34m)\u001b[0m\u001b[0;34m,\u001b[0m \u001b[0mCounter\u001b[0m\u001b[0;34m(\u001b[0m\u001b[0mpredict_positive\u001b[0m\u001b[0;34m)\u001b[0m\u001b[0;34m,\u001b[0m \u001b[0mCounter\u001b[0m\u001b[0;34m(\u001b[0m\u001b[0mactual_negative\u001b[0m\u001b[0;34m)\u001b[0m\u001b[0;34m,\u001b[0m \u001b[0mCounter\u001b[0m\u001b[0;34m(\u001b[0m\u001b[0mpredict_negative\u001b[0m\u001b[0;34m)\u001b[0m\u001b[0;34m\u001b[0m\u001b[0;34m\u001b[0m\u001b[0m\n\u001b[0m",
      "\u001b[0;31mNameError\u001b[0m: name 'Counter' is not defined"
     ]
    }
   ],
   "source": [
    "Counter(actual_positive), Counter(predict_positive), Counter(actual_negative), Counter(predict_negative)"
   ]
  },
  {
   "cell_type": "code",
   "execution_count": null,
   "id": "6568148c",
   "metadata": {},
   "outputs": [],
   "source": [
    "predict_positive.sum()"
   ]
  },
  {
   "cell_type": "code",
   "execution_count": null,
   "id": "fa214291",
   "metadata": {},
   "outputs": [],
   "source": [
    "\n",
    "tp=(predict_positive &actual_positive).sum()\n",
    "tp"
   ]
  },
  {
   "cell_type": "code",
   "execution_count": null,
   "id": "58bd3402",
   "metadata": {},
   "outputs": [],
   "source": [
    "tp=(predict_positive &actual_positive).sum()\n",
    "tn=(predict_negative &actual_negative  ).sum()\n",
    "fp=(predict_positive &actual_negative ).sum()\n",
    "fn=(predict_negative &actual_positive  ).sum()"
   ]
  },
  {
   "cell_type": "code",
   "execution_count": null,
   "id": "84dffbf8",
   "metadata": {},
   "outputs": [],
   "source": [
    "confusion_matrix=np.array([\n",
    "    [tn, fp],\n",
    "     [fn,tp]\n",
    "    \n",
    "])\n",
    "confusion_matrix"
   ]
  },
  {
   "cell_type": "code",
   "execution_count": null,
   "id": "cb5b592f",
   "metadata": {},
   "outputs": [],
   "source": [
    "\n",
    "(tp+tn)/(tp+tn+fp+fn)\n"
   ]
  },
  {
   "cell_type": "code",
   "execution_count": null,
   "id": "f76dc04e",
   "metadata": {},
   "outputs": [],
   "source": [
    "p=(tp)/(tp+fp)\n",
    "p\n"
   ]
  },
  {
   "cell_type": "code",
   "execution_count": null,
   "id": "5593c4dc",
   "metadata": {},
   "outputs": [],
   "source": [
    "tp+fn"
   ]
  },
  {
   "cell_type": "code",
   "execution_count": null,
   "id": "f20ce25e",
   "metadata": {},
   "outputs": [],
   "source": [
    "r=tp/(tp+fn)\n",
    "r"
   ]
  },
  {
   "cell_type": "code",
   "execution_count": null,
   "id": "3c3646e3",
   "metadata": {},
   "outputs": [],
   "source": [
    "(confusion_matrix/confusion_matrix.sum()).round(3)"
   ]
  },
  {
   "cell_type": "code",
   "execution_count": null,
   "id": "ab5d0c75",
   "metadata": {},
   "outputs": [],
   "source": [
    "fpr=fp/(fp+tn)# All negatives\n",
    "fpr"
   ]
  },
  {
   "cell_type": "code",
   "execution_count": null,
   "id": "e278fff0",
   "metadata": {},
   "outputs": [],
   "source": [
    "tpr=tp/(tp+fn)\n",
    "tpr"
   ]
  },
  {
   "cell_type": "markdown",
   "id": "1d8b9e76",
   "metadata": {},
   "source": [
    "## ROC"
   ]
  },
  {
   "cell_type": "code",
   "execution_count": null,
   "id": "38e78197",
   "metadata": {},
   "outputs": [],
   "source": [
    "scores=[]\n",
    "for t in np.linspace(0,1,101,):  \n",
    "    actual_positive=(y_val==1)\n",
    "    actual_negative=(y_val==0)\n",
    "    predict_positive=(y_pred_val>=t)\n",
    "    predict_negative=(y_pred_val<t)\n",
    "    tp=(predict_positive &actual_positive).sum()\n",
    "    tn=(predict_negative &actual_negative  ).sum()\n",
    "    fp=(predict_positive &actual_negative ).sum()\n",
    "    fn=(predict_negative &actual_positive  ).sum()\n",
    "    tpr=tp/(tp+fn)\n",
    "    fpr=fp/(fp+tn)\n",
    "    scores.append((t,tp,tn,fp,fn,tpr,fpr))\n",
    "\n",
    "columns=['threshold','tp','tn','fp','fn','tpr','fpr']\n",
    "df_roc_curve=pd.DataFrame(scores, columns=columns)\n",
    "df_roc_curve\n",
    "    \n",
    "    \n",
    "    \n",
    "    "
   ]
  },
  {
   "cell_type": "code",
   "execution_count": null,
   "id": "eb93339c",
   "metadata": {},
   "outputs": [],
   "source": [
    "plt.plot(df_roc_curve['threshold'],df_roc_curve['tpr'], label='TPR')\n",
    "plt.plot(df_roc_curve['threshold'],df_roc_curve['fpr'],label='FPR')\n",
    "plt.xlabel(\"threshold\")\n",
    "plt.ylabel(\"FPR/TPR\")\n"
   ]
  },
  {
   "cell_type": "code",
   "execution_count": null,
   "id": "6feef8fc",
   "metadata": {},
   "outputs": [],
   "source": [
    "y_val.mean()"
   ]
  },
  {
   "cell_type": "code",
   "execution_count": null,
   "id": "1cf4fb65",
   "metadata": {},
   "outputs": [],
   "source": [
    "from sklearn.metrics import roc_curve\n"
   ]
  },
  {
   "cell_type": "code",
   "execution_count": null,
   "id": "a70aaae4",
   "metadata": {},
   "outputs": [],
   "source": [
    "fpr,tpr,threshold=roc_curve(y_val,y_pred)\n",
    "\n"
   ]
  },
  {
   "cell_type": "code",
   "execution_count": 46,
   "id": "a6df82b0",
   "metadata": {},
   "outputs": [
    {
     "ename": "NameError",
     "evalue": "name 'fpr' is not defined",
     "output_type": "error",
     "traceback": [
      "\u001b[0;31m---------------------------------------------------------------------------\u001b[0m",
      "\u001b[0;31mNameError\u001b[0m                                 Traceback (most recent call last)",
      "\u001b[0;32m/tmp/ipykernel_1552/40343109.py\u001b[0m in \u001b[0;36m<module>\u001b[0;34m\u001b[0m\n\u001b[0;32m----> 1\u001b[0;31m \u001b[0mauc\u001b[0m\u001b[0;34m(\u001b[0m\u001b[0mfpr\u001b[0m\u001b[0;34m,\u001b[0m\u001b[0mtpr\u001b[0m\u001b[0;34m)\u001b[0m\u001b[0;34m\u001b[0m\u001b[0;34m\u001b[0m\u001b[0m\n\u001b[0m",
      "\u001b[0;31mNameError\u001b[0m: name 'fpr' is not defined"
     ]
    }
   ],
   "source": [
    "auc(fpr,tpr)"
   ]
  },
  {
   "cell_type": "code",
   "execution_count": null,
   "id": "3852fa4e",
   "metadata": {},
   "outputs": [],
   "source": [
    "plt.figure(figsize=(5,5))\n",
    "plt.plot(fpr, tpr)\n",
    "plt.plot([0,1],[0,1])"
   ]
  },
  {
   "cell_type": "markdown",
   "id": "c51cd339",
   "metadata": {},
   "source": [
    "##  On Full Train and Test Data Set"
   ]
  },
  {
   "cell_type": "code",
   "execution_count": null,
   "id": "e4e43f75",
   "metadata": {},
   "outputs": [],
   "source": [
    "del df_full_train['stroke']"
   ]
  },
  {
   "cell_type": "code",
   "execution_count": null,
   "id": "9ea614dc",
   "metadata": {},
   "outputs": [],
   "source": [
    "full_train_dicts=df_full_train[categorical+numerical].to_dict(orient='records')\n",
    "test_dicts=df_test[categorical+numerical].to_dict(orient='records')\n",
    "X_full_train=dv.fit_transform(full_train_dicts)\n",
    "\n"
   ]
  },
  {
   "cell_type": "code",
   "execution_count": null,
   "id": "972ab38c",
   "metadata": {},
   "outputs": [],
   "source": [
    "# 0.01, 0.1, 0.5, 10\n",
    "model=LogisticRegression(solver='liblinear', C=10, max_iter=1000)\n",
    "model.fit(X_train,y_train)\n",
    "model.fit(X_full_train, y_full_train)"
   ]
  },
  {
   "cell_type": "code",
   "execution_count": null,
   "id": "1679a27f",
   "metadata": {},
   "outputs": [],
   "source": [
    "\n",
    "y_pred_test=model.predict_proba(X_test)[:,1]# Soft Predictions- Score\n",
    "stroke_decision1=y_pred_test>0.5\n",
    "stroke_decision1=stroke_decision1.astype(int)"
   ]
  },
  {
   "cell_type": "code",
   "execution_count": 47,
   "id": "decd85b7",
   "metadata": {},
   "outputs": [
    {
     "ename": "NameError",
     "evalue": "name 'stroke_decision1' is not defined",
     "output_type": "error",
     "traceback": [
      "\u001b[0;31m---------------------------------------------------------------------------\u001b[0m",
      "\u001b[0;31mNameError\u001b[0m                                 Traceback (most recent call last)",
      "\u001b[0;32m/tmp/ipykernel_1552/1236427181.py\u001b[0m in \u001b[0;36m<module>\u001b[0;34m\u001b[0m\n\u001b[0;32m----> 1\u001b[0;31m \u001b[0mprint\u001b[0m\u001b[0;34m(\u001b[0m\u001b[0maccuracy_score\u001b[0m\u001b[0;34m(\u001b[0m\u001b[0my_test\u001b[0m\u001b[0;34m,\u001b[0m\u001b[0mstroke_decision1\u001b[0m\u001b[0;34m)\u001b[0m\u001b[0;34m)\u001b[0m\u001b[0;34m\u001b[0m\u001b[0;34m\u001b[0m\u001b[0m\n\u001b[0m\u001b[1;32m      2\u001b[0m \u001b[0;34m\u001b[0m\u001b[0m\n\u001b[1;32m      3\u001b[0m \u001b[0mauc\u001b[0m\u001b[0;34m=\u001b[0m\u001b[0mroc_auc_score\u001b[0m\u001b[0;34m(\u001b[0m\u001b[0my_test\u001b[0m\u001b[0;34m,\u001b[0m \u001b[0mstroke_decision1\u001b[0m\u001b[0;34m)\u001b[0m\u001b[0;34m\u001b[0m\u001b[0;34m\u001b[0m\u001b[0m\n\u001b[1;32m      4\u001b[0m \u001b[0;31m#   print('%s, %.2f' % (n, auc))\u001b[0m\u001b[0;34m\u001b[0m\u001b[0;34m\u001b[0m\u001b[0m\n\u001b[1;32m      5\u001b[0m \u001b[0mprint\u001b[0m\u001b[0;34m(\u001b[0m\u001b[0;34m'%.3f'\u001b[0m \u001b[0;34m%\u001b[0m \u001b[0;34m(\u001b[0m\u001b[0mauc\u001b[0m\u001b[0;34m)\u001b[0m\u001b[0;34m)\u001b[0m\u001b[0;34m\u001b[0m\u001b[0;34m\u001b[0m\u001b[0m\n",
      "\u001b[0;31mNameError\u001b[0m: name 'stroke_decision1' is not defined"
     ]
    }
   ],
   "source": [
    "print(accuracy_score(y_test,stroke_decision1))\n",
    "\n",
    "auc=roc_auc_score(y_test, stroke_decision1)\n",
    "#   print('%s, %.2f' % (n, auc))\n",
    "print('%.3f' % (auc))"
   ]
  },
  {
   "cell_type": "code",
   "execution_count": null,
   "id": "869a3eaa",
   "metadata": {},
   "outputs": [],
   "source": []
  },
  {
   "cell_type": "code",
   "execution_count": null,
   "id": "35c6e755",
   "metadata": {},
   "outputs": [],
   "source": [
    "df_pred = pd.DataFrame({'probability':y_pred_test, 'prediction':stroke_decision1.astype(int),'actual':y_test})\n",
    "\n",
    "df_pred['correct']=(df_pred['prediction']==df_pred['actual'])"
   ]
  },
  {
   "cell_type": "code",
   "execution_count": null,
   "id": "4e4cbbe5",
   "metadata": {},
   "outputs": [],
   "source": [
    "df_pred[(df_pred.actual==1) & (df_pred.prediction==0)]"
   ]
  },
  {
   "cell_type": "code",
   "execution_count": null,
   "id": "e5e4b76c",
   "metadata": {},
   "outputs": [],
   "source": [
    "import pickle\n",
    "C=10"
   ]
  },
  {
   "cell_type": "code",
   "execution_count": null,
   "id": "c4c9e1df",
   "metadata": {},
   "outputs": [],
   "source": [
    "def train(df_train,y_train,C):\n",
    "    train_dicts=df_train[numerical+categorical].to_dict(orient='records')\n",
    "    dv=DictVectorizer(sparse=False)\n",
    "    X_train=dv.fit_transform(train_dicts)\n",
    "    model=LogisticRegression(max_iter=1000,C=C)\n",
    "    model.fit(X_train,y_train)\n",
    "    \n",
    "    return model,dv\n",
    "\n",
    "def predict(df,dv,model):\n",
    "    dicts=df[numerical+categorical].to_dict(orient='records')\n",
    "    X=dv.transform(dicts)\n",
    "    y_pred=model.predict_proba(X)[:,1]\n",
    "    \n",
    "    return y_pred\n",
    "    "
   ]
  },
  {
   "cell_type": "code",
   "execution_count": null,
   "id": "cc8052d5",
   "metadata": {},
   "outputs": [],
   "source": [
    "train_dicts"
   ]
  },
  {
   "cell_type": "code",
   "execution_count": null,
   "id": "79543054",
   "metadata": {},
   "outputs": [],
   "source": [
    "model,dv=train(df_train,y_train, C=C)\n",
    "y_pred=predict(df_val,dv,model)\n",
    "y_pred"
   ]
  },
  {
   "cell_type": "code",
   "execution_count": null,
   "id": "63f9cfa5",
   "metadata": {},
   "outputs": [],
   "source": [
    "ouput_file=f'model_C={C}.bin'\n",
    "ouput_file"
   ]
  },
  {
   "cell_type": "code",
   "execution_count": null,
   "id": "9ff02720",
   "metadata": {},
   "outputs": [],
   "source": [
    "with open(ouput_file,'wb') as f_out:\n",
    "    pickle.dump((dv,model),f_out)\n",
    "    "
   ]
  },
  {
   "cell_type": "code",
   "execution_count": null,
   "id": "b3f9784d",
   "metadata": {},
   "outputs": [],
   "source": [
    "input_file='model_C=10.bin'\n",
    "\n",
    "with open (input_file,'rb') as f_in:\n",
    "    dv,model=pickle.load(f_in)\n"
   ]
  },
  {
   "cell_type": "code",
   "execution_count": null,
   "id": "268d9a20",
   "metadata": {},
   "outputs": [],
   "source": [
    "model,dv"
   ]
  },
  {
   "cell_type": "code",
   "execution_count": null,
   "id": "e449d5c4",
   "metadata": {},
   "outputs": [],
   "source": [
    "matrix = confusion_matrix(y_test, y_pred_test)"
   ]
  },
  {
   "cell_type": "code",
   "execution_count": null,
   "id": "d82f159d",
   "metadata": {},
   "outputs": [],
   "source": [
    "model.predict_proba(X)[:,1]"
   ]
  }
 ],
 "metadata": {
  "kernelspec": {
   "display_name": "Python 3 (ipykernel)",
   "language": "python",
   "name": "python3"
  },
  "language_info": {
   "codemirror_mode": {
    "name": "ipython",
    "version": 3
   },
   "file_extension": ".py",
   "mimetype": "text/x-python",
   "name": "python",
   "nbconvert_exporter": "python",
   "pygments_lexer": "ipython3",
   "version": "3.9.7"
  }
 },
 "nbformat": 4,
 "nbformat_minor": 5
}
